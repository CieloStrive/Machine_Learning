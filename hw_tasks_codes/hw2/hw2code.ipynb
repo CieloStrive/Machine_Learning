{
  "nbformat": 4,
  "nbformat_minor": 0,
  "metadata": {
    "colab": {
      "name": "hw2(refine).ipynb",
      "provenance": [],
      "collapsed_sections": []
    },
    "kernelspec": {
      "name": "python3",
      "display_name": "Python 3"
    }
  },
  "cells": [
    {
      "cell_type": "markdown",
      "metadata": {
        "id": "kLFSKfGEuiaV",
        "colab_type": "text"
      },
      "source": [
        "Question 3"
      ]
    },
    {
      "cell_type": "markdown",
      "metadata": {
        "id": "pd0Kt-axXdtW",
        "colab_type": "text"
      },
      "source": [
        "(a)"
      ]
    },
    {
      "cell_type": "markdown",
      "metadata": {
        "id": "k4fQPQZ4TjYl",
        "colab_type": "text"
      },
      "source": [
        "write a function for calculating MSE"
      ]
    },
    {
      "cell_type": "code",
      "metadata": {
        "id": "GZcHPVVVJm7j",
        "colab_type": "code",
        "colab": {}
      },
      "source": [
        "def  MSE(w,X,y):\n",
        "  n,d = X.shape\n",
        "  Xw = X.dot(w)#predictions\n",
        "  mse = (1/n) * (np.linalg.norm(y-Xw))**2\n",
        "  return mse"
      ],
      "execution_count": 0,
      "outputs": []
    },
    {
      "cell_type": "markdown",
      "metadata": {
        "id": "bZrk7Ot0Tpb3",
        "colab_type": "text"
      },
      "source": [
        "Implement a function for learning the parameters of a linear model for a given tranining data with user-specified learning rate *learning_rate* and number of epochs *epochnumber*."
      ]
    },
    {
      "cell_type": "code",
      "metadata": {
        "id": "DD8fw4H8pZdT",
        "colab_type": "code",
        "colab": {}
      },
      "source": [
        "import numpy as np\n",
        "import matplotlib.pyplot as plt\n",
        "\n",
        "def GD (x,y,learning_rate,epochnumber):\n",
        "  n,d = x.shape\n",
        "  #print(\"n:\",n,\" \",\"d:\",d)\n",
        "  x0 = np.ones((n,1))\n",
        "  X = np.hstack((x0,x))\n",
        "  #print(X)\n",
        "  #print(\"n:\",n,\" \",\"d:\",d)\n",
        "  \n",
        "  w = np.random.randn(d+1,1)\n",
        "  \n",
        "  optimalw = np.dot ( np.linalg.inv( np.dot(X.T,X) ) , (np.dot(X.T,y)) ) #use formula\n",
        "  print(\"optimalw by formula:\")\n",
        "  print(optimalw)\n",
        "  \n",
        "  mse = []\n",
        "  R2 = []\n",
        "  for it in range(epochnumber):\n",
        "    Xw = np.dot(X,w)\n",
        "    w = w -(2/n)*learning_rate*( X.T.dot((Xw - y)))\n",
        "    mse.append(MSE(w,X,y))\n",
        "    #calculating R2 (better if close to 1)\n",
        "    FVU = MSE(w,X,y) / (np.std(y)**2)\n",
        "    R2.append(1-FVU)\n",
        "  print(\"Training Result:\")\n",
        "  #print(\"MSE: \",mse[-1])\n",
        "  #print(\"R^2: \",R2[-1])\n",
        "  \n",
        "  %matplotlib inline\n",
        "  plt.figure(1)\n",
        "  plt.title(\"MSE Variation with epoch\")\n",
        "  plt.plot(range(epochnumber),mse)\n",
        "  plt.xlabel('Epoch')\n",
        "  plt.ylabel('MSE')\n",
        "  plt.grid(True)\n",
        "  plt.figure(2)\n",
        "  plt.title(\"R^2 Variation with epoch\")\n",
        "  plt.plot(range(epochnumber),R2,'r')\n",
        "  plt.xlabel('Epoch')\n",
        "  plt.ylabel('R^2')\n",
        "  plt.grid(True)\n",
        "  \n",
        "  return w"
      ],
      "execution_count": 0,
      "outputs": []
    },
    {
      "cell_type": "markdown",
      "metadata": {
        "id": "p374p1ZnXiZF",
        "colab_type": "text"
      },
      "source": [
        "(b)"
      ]
    },
    {
      "cell_type": "markdown",
      "metadata": {
        "id": "Ny8_S6I1SZU4",
        "colab_type": "text"
      },
      "source": [
        "import gulcose data used in Lecture 2"
      ]
    },
    {
      "cell_type": "code",
      "metadata": {
        "id": "hxtA5_Z2TY_R",
        "colab_type": "code",
        "outputId": "3f56fbf6-bd69-45b8-ec97-013301dbaac1",
        "colab": {
          "base_uri": "https://localhost:8080/",
          "height": 52
        }
      },
      "source": [
        "from sklearn import datasets, linear_model\n",
        "# Load the diabetes dataset\n",
        "diabetes = datasets.load_diabetes()\n",
        "x = diabetes.data\n",
        "y = diabetes.target\n",
        "\n",
        "print(x.shape)\n",
        "#print(y.shape)\n",
        "print(y.shape)"
      ],
      "execution_count": 3,
      "outputs": [
        {
          "output_type": "stream",
          "text": [
            "(442, 10)\n",
            "(442,)\n"
          ],
          "name": "stdout"
        }
      ]
    },
    {
      "cell_type": "markdown",
      "metadata": {
        "id": "88r-8SzicNzB",
        "colab_type": "text"
      },
      "source": [
        "split 70-30 test-train data"
      ]
    },
    {
      "cell_type": "code",
      "metadata": {
        "id": "UWYjG_cHcM01",
        "colab_type": "code",
        "outputId": "17056d64-c0ef-400b-d639-62b21e9ab1e4",
        "colab": {
          "base_uri": "https://localhost:8080/",
          "height": 52
        }
      },
      "source": [
        "xtest = np.split(x,[310,442],axis = 0)[0]\n",
        "xtrain = np.split(x,[310,442],axis = 0)[1]\n",
        "print(\"x shape: \",x.shape,\" xtest shape :\",xtest.shape,\" xtrain shape: \",xtrain.shape)\n",
        "\n",
        "ytest = np.split(y,[310,442])[0]\n",
        "ytrain = np.split(y,[310,442])[1]\n",
        "print(\"y shape: \",y.shape,\" ytest shape :\",ytest.shape,\" ytrain shape: \",ytrain.shape)"
      ],
      "execution_count": 4,
      "outputs": [
        {
          "output_type": "stream",
          "text": [
            "x shape:  (442, 10)  xtest shape : (310, 10)  xtrain shape:  (132, 10)\n",
            "y shape:  (442,)  ytest shape : (310,)  ytrain shape:  (132,)\n"
          ],
          "name": "stdout"
        }
      ]
    },
    {
      "cell_type": "markdown",
      "metadata": {
        "id": "U0e8lkUsZtDh",
        "colab_type": "text"
      },
      "source": [
        "Train linear model by sklearn"
      ]
    },
    {
      "cell_type": "code",
      "metadata": {
        "id": "zbgt_a1GYbAT",
        "colab_type": "code",
        "outputId": "7449f37f-d706-4a27-c642-87bdc42b60ab",
        "colab": {
          "base_uri": "https://localhost:8080/",
          "height": 34
        }
      },
      "source": [
        "regr = linear_model.LinearRegression()\n",
        "regr.fit(xtrain,ytrain)"
      ],
      "execution_count": 5,
      "outputs": [
        {
          "output_type": "execute_result",
          "data": {
            "text/plain": [
              "LinearRegression(copy_X=True, fit_intercept=True, n_jobs=None, normalize=False)"
            ]
          },
          "metadata": {
            "tags": []
          },
          "execution_count": 5
        }
      ]
    },
    {
      "cell_type": "markdown",
      "metadata": {
        "id": "EKJyAno-Z0FG",
        "colab_type": "text"
      },
      "source": [
        "print out intercept and coefficients by sklearn"
      ]
    },
    {
      "cell_type": "code",
      "metadata": {
        "id": "S6TbOMIfZRGj",
        "colab_type": "code",
        "outputId": "c3473347-e2a6-4b2d-faf5-35a96939bb08",
        "colab": {
          "base_uri": "https://localhost:8080/",
          "height": 87
        }
      },
      "source": [
        "print(\"intercep: \",regr.intercept_)\n",
        "print(\"coefficients: \",regr.coef_)"
      ],
      "execution_count": 6,
      "outputs": [
        {
          "output_type": "stream",
          "text": [
            "intercep:  152.19232660772457\n",
            "coefficients:  [  -22.36235507  -199.24901422   466.5438688    408.97375681\n",
            " -1177.29512755   832.96506034   192.22760442   179.8446175\n",
            "   871.38750025    -9.2876511 ]\n"
          ],
          "name": "stdout"
        }
      ]
    },
    {
      "cell_type": "markdown",
      "metadata": {
        "id": "NR4C83LtaIV_",
        "colab_type": "text"
      },
      "source": [
        "Print out R^2 number of test data's prediction by linear model created by sklearn"
      ]
    },
    {
      "cell_type": "code",
      "metadata": {
        "id": "NenRtowlYaqT",
        "colab_type": "code",
        "outputId": "a2ecd9e1-a16e-4286-ec91-7087e6a22d2c",
        "colab": {
          "base_uri": "https://localhost:8080/",
          "height": 34
        }
      },
      "source": [
        "ytest_pred = regr.predict(xtest)\n",
        "RSS = np.mean((ytest_pred-ytest)**2)/(np.std(ytest)**2)\n",
        "Rsq = 1-RSS\n",
        "#print(\"RSS per sample = {0:f}\".format(RSS))\n",
        "print(\"R^2 = {0:f}\".format(Rsq))"
      ],
      "execution_count": 7,
      "outputs": [
        {
          "output_type": "stream",
          "text": [
            "R^2 = 0.496374\n"
          ],
          "name": "stdout"
        }
      ]
    },
    {
      "cell_type": "markdown",
      "metadata": {
        "id": "MN14K8BjU226",
        "colab_type": "text"
      },
      "source": [
        "Validate own function:\n",
        "\n",
        "(1)Print out the result of using own training function: a combination of intercept and coefficient\n",
        "\n",
        "(2)It will firstly (by function itself) print out optimal coefficients produced by using (X^T*X)^(-1)*X^T*y and MSE, R^2 value after using my training function\n",
        "\n",
        "(3)At the buttom there will be two graph showing variation of MSE, R^2 with epoch"
      ]
    },
    {
      "cell_type": "markdown",
      "metadata": {
        "id": "EdqiwR8IlnCo",
        "colab_type": "text"
      },
      "source": [
        "Train my model"
      ]
    },
    {
      "cell_type": "code",
      "metadata": {
        "id": "yQBGn4ejTbsP",
        "colab_type": "code",
        "outputId": "3cd0debe-453a-4b8d-ae8d-bb6f0dbc1f41",
        "colab": {
          "base_uri": "https://localhost:8080/",
          "height": 994
        }
      },
      "source": [
        "ytrain = ytrain.reshape((132,1))#reshape y to colum vector\n",
        "ytest = ytest.reshape((310,1))\n",
        "\n",
        "np.set_printoptions(suppress=True)\n",
        "wtrain = GD(xtrain,ytrain,0.2,60000)\n",
        "print(wtrain)"
      ],
      "execution_count": 20,
      "outputs": [
        {
          "output_type": "stream",
          "text": [
            "optimalw by formula:\n",
            "[[  152.19232661]\n",
            " [  -22.36235507]\n",
            " [ -199.24901422]\n",
            " [  466.5438688 ]\n",
            " [  408.97375681]\n",
            " [-1177.29512755]\n",
            " [  832.96506034]\n",
            " [  192.22760442]\n",
            " [  179.8446175 ]\n",
            " [  871.38750025]\n",
            " [   -9.2876511 ]]\n",
            "Training Result:\n",
            "[[ 151.87297524]\n",
            " [  -9.68204348]\n",
            " [-180.37387961]\n",
            " [ 481.22204134]\n",
            " [ 400.99797935]\n",
            " [-496.73613722]\n",
            " [ 321.27925011]\n",
            " [-117.49438036]\n",
            " [  65.55076943]\n",
            " [ 591.93106102]\n",
            " [  -5.07843679]]\n"
          ],
          "name": "stdout"
        },
        {
          "output_type": "display_data",
          "data": {
            "image/png": "[encoded data removed]",
            "text/plain": [
              "<Figure size 432x288 with 1 Axes>"
            ]
          },
          "metadata": {
            "tags": []
          }
        },
        {
          "output_type": "display_data",
          "data": {
            "image/png": "[encoded data removed]",
            "text/plain": [
              "<Figure size 432x288 with 1 Axes>"
            ]
          },
          "metadata": {
            "tags": []
          }
        }
      ]
    },
    {
      "cell_type": "markdown",
      "metadata": {
        "id": "TrwqpHR1lhQf",
        "colab_type": "text"
      },
      "source": [
        "test my model and report R^2 (R^2 by sklearn is 0.496374):"
      ]
    },
    {
      "cell_type": "code",
      "metadata": {
        "id": "OtVIIKRfk4JT",
        "colab_type": "code",
        "outputId": "05bdcabc-acc0-40a5-e0fb-d11bd68dc820",
        "colab": {
          "base_uri": "https://localhost:8080/",
          "height": 52
        }
      },
      "source": [
        "Xtest = np.hstack((np.ones((310,1)),xtest))\n",
        "#print(Xtest.shape)\n",
        "MSEtest = MSE(wtrain,Xtest,ytest)\n",
        "print(\"MSEtest = \",MSEtest)\n",
        "FVUtest = MSEtest / (np.std(ytest)**2)\n",
        "R2test = (1-FVUtest)\n",
        "print(\"R^2 = {0:f}\".format(R2test))"
      ],
      "execution_count": 19,
      "outputs": [
        {
          "output_type": "stream",
          "text": [
            "MSEtest =  20460.39844270822\n",
            "R^2 = -2.402585\n"
          ],
          "name": "stdout"
        }
      ]
    },
    {
      "cell_type": "markdown",
      "metadata": {
        "id": "HM7MBipBueGU",
        "colab_type": "text"
      },
      "source": [
        "*Question* 4:\n",
        " \n",
        "upload related .csv files to colab first\n",
        "\n",
        "(a)read in data"
      ]
    },
    {
      "cell_type": "code",
      "metadata": {
        "id": "pHPPxBtNunKT",
        "colab_type": "code",
        "outputId": "66d1fb25-35d6-4686-e046-6db6aa664075",
        "colab": {
          "base_uri": "https://localhost:8080/",
          "height": 382
        }
      },
      "source": [
        "import numpy as np\n",
        "import pandas as pd\n",
        "names =[\n",
        "'t', # Time (secs)\n",
        "'q1', 'q2', 'q3', # Joint angle\n",
        "'dq1', 'dq2', 'dq3', # Joint velocity\n",
        "'I1', 'I2', 'I3', # Motor current (A)\n",
        "'eps21', 'eps22', 'eps31', 'eps32', # Strain measurements\n",
        "'ddq1', 'ddq2', 'ddq3' # Joint accelerations\n",
        "]\n",
        "df = pd.read_csv('exp_train.csv', header=None,sep=',',names=names, index_col=0)\n",
        "df.head(6)\n"
      ],
      "execution_count": 21,
      "outputs": [
        {
          "output_type": "execute_result",
          "data": {
            "text/html": [
              "<div>\n",
              "<style scoped>\n",
              "    .dataframe tbody tr th:only-of-type {\n",
              "        vertical-align: middle;\n",
              "    }\n",
              "\n",
              "    .dataframe tbody tr th {\n",
              "        vertical-align: top;\n",
              "    }\n",
              "\n",
              "    .dataframe thead th {\n",
              "        text-align: right;\n",
              "    }\n",
              "</style>\n",
              "<table border=\"1\" class=\"dataframe\">\n",
              "  <thead>\n",
              "    <tr style=\"text-align: right;\">\n",
              "      <th></th>\n",
              "      <th>q1</th>\n",
              "      <th>q2</th>\n",
              "      <th>q3</th>\n",
              "      <th>dq1</th>\n",
              "      <th>dq2</th>\n",
              "      <th>dq3</th>\n",
              "      <th>I1</th>\n",
              "      <th>I2</th>\n",
              "      <th>I3</th>\n",
              "      <th>eps21</th>\n",
              "      <th>eps22</th>\n",
              "      <th>eps31</th>\n",
              "      <th>eps32</th>\n",
              "      <th>ddq1</th>\n",
              "      <th>ddq2</th>\n",
              "      <th>ddq3</th>\n",
              "    </tr>\n",
              "    <tr>\n",
              "      <th>t</th>\n",
              "      <th></th>\n",
              "      <th></th>\n",
              "      <th></th>\n",
              "      <th></th>\n",
              "      <th></th>\n",
              "      <th></th>\n",
              "      <th></th>\n",
              "      <th></th>\n",
              "      <th></th>\n",
              "      <th></th>\n",
              "      <th></th>\n",
              "      <th></th>\n",
              "      <th></th>\n",
              "      <th></th>\n",
              "      <th></th>\n",
              "      <th></th>\n",
              "    </tr>\n",
              "  </thead>\n",
              "  <tbody>\n",
              "    <tr>\n",
              "      <th>0.00</th>\n",
              "      <td>-0.000007</td>\n",
              "      <td>2.4958</td>\n",
              "      <td>-1.1345</td>\n",
              "      <td>-7.882100e-21</td>\n",
              "      <td>-4.940656e-321</td>\n",
              "      <td>3.913100e-29</td>\n",
              "      <td>-0.081623</td>\n",
              "      <td>-0.40812</td>\n",
              "      <td>-0.30609</td>\n",
              "      <td>-269.25</td>\n",
              "      <td>-113.20</td>\n",
              "      <td>3.5918</td>\n",
              "      <td>1.57860</td>\n",
              "      <td>-9.904900e-19</td>\n",
              "      <td>-6.210306e-319</td>\n",
              "      <td>4.917400e-27</td>\n",
              "    </tr>\n",
              "    <tr>\n",
              "      <th>0.01</th>\n",
              "      <td>-0.000007</td>\n",
              "      <td>2.4958</td>\n",
              "      <td>-1.1345</td>\n",
              "      <td>-2.258200e-21</td>\n",
              "      <td>-4.940656e-321</td>\n",
              "      <td>2.626200e-31</td>\n",
              "      <td>-0.037411</td>\n",
              "      <td>-0.37241</td>\n",
              "      <td>-0.26698</td>\n",
              "      <td>-270.91</td>\n",
              "      <td>-116.05</td>\n",
              "      <td>1.4585</td>\n",
              "      <td>-1.73980</td>\n",
              "      <td>4.248100e-19</td>\n",
              "      <td>-1.766878e-319</td>\n",
              "      <td>-1.381100e-27</td>\n",
              "    </tr>\n",
              "    <tr>\n",
              "      <th>0.02</th>\n",
              "      <td>-0.000007</td>\n",
              "      <td>2.4958</td>\n",
              "      <td>-1.1345</td>\n",
              "      <td>-6.469800e-22</td>\n",
              "      <td>-4.940656e-321</td>\n",
              "      <td>1.762500e-33</td>\n",
              "      <td>-0.066319</td>\n",
              "      <td>-0.40302</td>\n",
              "      <td>-0.31459</td>\n",
              "      <td>-269.25</td>\n",
              "      <td>-112.97</td>\n",
              "      <td>3.5918</td>\n",
              "      <td>0.86753</td>\n",
              "      <td>3.233800e-19</td>\n",
              "      <td>-4.990557e-320</td>\n",
              "      <td>-4.117300e-28</td>\n",
              "    </tr>\n",
              "    <tr>\n",
              "      <th>0.03</th>\n",
              "      <td>-0.000007</td>\n",
              "      <td>2.4958</td>\n",
              "      <td>-1.1345</td>\n",
              "      <td>-1.853600e-22</td>\n",
              "      <td>-4.940656e-321</td>\n",
              "      <td>1.182800e-35</td>\n",
              "      <td>-0.068020</td>\n",
              "      <td>-0.43703</td>\n",
              "      <td>-0.28398</td>\n",
              "      <td>-269.97</td>\n",
              "      <td>-114.39</td>\n",
              "      <td>1.6956</td>\n",
              "      <td>-0.08059</td>\n",
              "      <td>1.500500e-19</td>\n",
              "      <td>-1.394253e-320</td>\n",
              "      <td>-1.173100e-28</td>\n",
              "    </tr>\n",
              "    <tr>\n",
              "      <th>0.04</th>\n",
              "      <td>-0.000007</td>\n",
              "      <td>2.4958</td>\n",
              "      <td>-1.1345</td>\n",
              "      <td>-5.310600e-23</td>\n",
              "      <td>-4.940656e-321</td>\n",
              "      <td>-5.270900e-03</td>\n",
              "      <td>-0.052715</td>\n",
              "      <td>-0.40472</td>\n",
              "      <td>-0.30779</td>\n",
              "      <td>-269.97</td>\n",
              "      <td>-114.15</td>\n",
              "      <td>3.1177</td>\n",
              "      <td>0.86753</td>\n",
              "      <td>5.932400e-20</td>\n",
              "      <td>-3.581976e-321</td>\n",
              "      <td>-3.770800e-01</td>\n",
              "    </tr>\n",
              "    <tr>\n",
              "      <th>0.05</th>\n",
              "      <td>-0.000007</td>\n",
              "      <td>2.4958</td>\n",
              "      <td>-1.1345</td>\n",
              "      <td>-1.521500e-23</td>\n",
              "      <td>-4.940656e-321</td>\n",
              "      <td>3.252600e-04</td>\n",
              "      <td>-0.088425</td>\n",
              "      <td>-0.42342</td>\n",
              "      <td>-0.29589</td>\n",
              "      <td>-269.25</td>\n",
              "      <td>-114.15</td>\n",
              "      <td>2.4066</td>\n",
              "      <td>-0.08059</td>\n",
              "      <td>2.164600e-20</td>\n",
              "      <td>-1.141292e-321</td>\n",
              "      <td>2.930300e-01</td>\n",
              "    </tr>\n",
              "  </tbody>\n",
              "</table>\n",
              "</div>"
            ],
            "text/plain": [
              "            q1      q2      q3  ...          ddq1           ddq2          ddq3\n",
              "t                               ...                                           \n",
              "0.00 -0.000007  2.4958 -1.1345  ... -9.904900e-19 -6.210306e-319  4.917400e-27\n",
              "0.01 -0.000007  2.4958 -1.1345  ...  4.248100e-19 -1.766878e-319 -1.381100e-27\n",
              "0.02 -0.000007  2.4958 -1.1345  ...  3.233800e-19 -4.990557e-320 -4.117300e-28\n",
              "0.03 -0.000007  2.4958 -1.1345  ...  1.500500e-19 -1.394253e-320 -1.173100e-28\n",
              "0.04 -0.000007  2.4958 -1.1345  ...  5.932400e-20 -3.581976e-321 -3.770800e-01\n",
              "0.05 -0.000007  2.4958 -1.1345  ...  2.164600e-20 -1.141292e-321  2.930300e-01\n",
              "\n",
              "[6 rows x 16 columns]"
            ]
          },
          "metadata": {
            "tags": []
          },
          "execution_count": 21
        }
      ]
    },
    {
      "cell_type": "markdown",
      "metadata": {
        "id": "nfttn0jRBgR3",
        "colab_type": "text"
      },
      "source": [
        "(b)create training data"
      ]
    },
    {
      "cell_type": "code",
      "metadata": {
        "id": "sJqNW5TI8ml4",
        "colab_type": "code",
        "outputId": "0df9fdf1-4250-4741-88f2-686fb808505a",
        "colab": {
          "base_uri": "https://localhost:8080/",
          "height": 34
        }
      },
      "source": [
        "df1 = df [['q2','dq2','eps21', 'eps22', 'eps31',\n",
        "'eps32','ddq2']]\n",
        "y = np.array(df['I2']).reshape(8000,1)\n",
        "X = np.array(df1)\n",
        "#print(y.shape)\n",
        "print(\"n: \",X.shape[0],\" d: \",X.shape[1])\n",
        "#print(X)\n"
      ],
      "execution_count": 22,
      "outputs": [
        {
          "output_type": "stream",
          "text": [
            "n:  8000  d:  7\n"
          ],
          "name": "stdout"
        }
      ]
    },
    {
      "cell_type": "markdown",
      "metadata": {
        "id": "yA05FSgUBh_8",
        "colab_type": "text"
      },
      "source": [
        "(c)fit a linear model by sklearn"
      ]
    },
    {
      "cell_type": "code",
      "metadata": {
        "id": "JkEG77dgADlU",
        "colab_type": "code",
        "outputId": "28174de2-75e3-4bb5-9e9c-a56f679c3f62",
        "colab": {
          "base_uri": "https://localhost:8080/",
          "height": 70
        }
      },
      "source": [
        "from sklearn import linear_model\n",
        "regr = linear_model.LinearRegression()\n",
        "regr.fit(X,y)\n",
        "\n",
        "intercept = regr.intercept_\n",
        "coef = regr.coef_\n",
        "print(\"intercpt: \",intercept )\n",
        "print(\"w: \",coef)"
      ],
      "execution_count": 23,
      "outputs": [
        {
          "output_type": "stream",
          "text": [
            "intercpt:  [-0.08408084]\n",
            "w:  [[ 0.06255018  0.20584896  0.00118784  0.00044457 -0.0031362   0.00603298\n",
            "   0.05487097]]\n"
          ],
          "name": "stdout"
        }
      ]
    },
    {
      "cell_type": "markdown",
      "metadata": {
        "id": "qMJ6ReCsa5u-",
        "colab_type": "text"
      },
      "source": [
        "Report MSE"
      ]
    },
    {
      "cell_type": "code",
      "metadata": {
        "id": "ZQATg2cZAkVJ",
        "colab_type": "code",
        "outputId": "fa9be430-1375-4791-f688-ae48364a8547",
        "colab": {
          "base_uri": "https://localhost:8080/",
          "height": 70
        }
      },
      "source": [
        "y_pred = regr.predict(X)\n",
        "mse = np.mean((y_pred-y)**2)\n",
        "RSS = mse/(np.std(y)**2)\n",
        "Rsq = 1-RSS\n",
        "print(\"MSE of this model: \",mse)\n",
        "print(\"RSS per sample = {0:f}\".format(RSS))\n",
        "print(\"R^2 = {0:f}\".format(Rsq))"
      ],
      "execution_count": 24,
      "outputs": [
        {
          "output_type": "stream",
          "text": [
            "MSE of this model:  0.010936466882766276\n",
            "RSS per sample = 0.095833\n",
            "R^2 = 0.904167\n"
          ],
          "name": "stdout"
        }
      ]
    },
    {
      "cell_type": "markdown",
      "metadata": {
        "id": "pT-EQ7F7CHgI",
        "colab_type": "text"
      },
      "source": [
        "(d)"
      ]
    },
    {
      "cell_type": "markdown",
      "metadata": {
        "id": "tBUTLhLaCUBk",
        "colab_type": "text"
      },
      "source": [
        "read in test data:"
      ]
    },
    {
      "cell_type": "code",
      "metadata": {
        "id": "TXFW8VGxBk7f",
        "colab_type": "code",
        "outputId": "7bd13ac6-eeb6-4906-9761-dea09ff16280",
        "colab": {
          "base_uri": "https://localhost:8080/",
          "height": 382
        }
      },
      "source": [
        "import numpy as np\n",
        "import pandas as pd\n",
        "names =[\n",
        "'t', # Time (secs)\n",
        "'q1', 'q2', 'q3', # Joint angle\n",
        "'dq1', 'dq2', 'dq3', # Joint velocity\n",
        "'I1', 'I2', 'I3', # Motor current (A)\n",
        "'eps21', 'eps22', 'eps31', 'eps32', # Strain measurements\n",
        "'ddq1', 'ddq2', 'ddq3' # Joint accelerations\n",
        "]\n",
        "df = pd.read_csv('exp_test.csv', header=None,sep=',',names=names, index_col=0)\n",
        "df.head(6)\n",
        "\n"
      ],
      "execution_count": 25,
      "outputs": [
        {
          "output_type": "execute_result",
          "data": {
            "text/html": [
              "<div>\n",
              "<style scoped>\n",
              "    .dataframe tbody tr th:only-of-type {\n",
              "        vertical-align: middle;\n",
              "    }\n",
              "\n",
              "    .dataframe tbody tr th {\n",
              "        vertical-align: top;\n",
              "    }\n",
              "\n",
              "    .dataframe thead th {\n",
              "        text-align: right;\n",
              "    }\n",
              "</style>\n",
              "<table border=\"1\" class=\"dataframe\">\n",
              "  <thead>\n",
              "    <tr style=\"text-align: right;\">\n",
              "      <th></th>\n",
              "      <th>q1</th>\n",
              "      <th>q2</th>\n",
              "      <th>q3</th>\n",
              "      <th>dq1</th>\n",
              "      <th>dq2</th>\n",
              "      <th>dq3</th>\n",
              "      <th>I1</th>\n",
              "      <th>I2</th>\n",
              "      <th>I3</th>\n",
              "      <th>eps21</th>\n",
              "      <th>eps22</th>\n",
              "      <th>eps31</th>\n",
              "      <th>eps32</th>\n",
              "      <th>ddq1</th>\n",
              "      <th>ddq2</th>\n",
              "      <th>ddq3</th>\n",
              "    </tr>\n",
              "    <tr>\n",
              "      <th>t</th>\n",
              "      <th></th>\n",
              "      <th></th>\n",
              "      <th></th>\n",
              "      <th></th>\n",
              "      <th></th>\n",
              "      <th></th>\n",
              "      <th></th>\n",
              "      <th></th>\n",
              "      <th></th>\n",
              "      <th></th>\n",
              "      <th></th>\n",
              "      <th></th>\n",
              "      <th></th>\n",
              "      <th></th>\n",
              "      <th></th>\n",
              "      <th></th>\n",
              "    </tr>\n",
              "  </thead>\n",
              "  <tbody>\n",
              "    <tr>\n",
              "      <th>0.00</th>\n",
              "      <td>-0.000007</td>\n",
              "      <td>1.9024</td>\n",
              "      <td>0.26063</td>\n",
              "      <td>-0.000364</td>\n",
              "      <td>4.940656e-321</td>\n",
              "      <td>0.012596</td>\n",
              "      <td>-0.096928</td>\n",
              "      <td>-0.15134</td>\n",
              "      <td>-0.017005</td>\n",
              "      <td>-130.83</td>\n",
              "      <td>-41.856</td>\n",
              "      <td>-6.3635</td>\n",
              "      <td>5.13410</td>\n",
              "      <td>-0.045712</td>\n",
              "      <td>6.210306e-319</td>\n",
              "      <td>1.582900</td>\n",
              "    </tr>\n",
              "    <tr>\n",
              "      <th>0.01</th>\n",
              "      <td>0.000013</td>\n",
              "      <td>1.9024</td>\n",
              "      <td>0.26073</td>\n",
              "      <td>0.000739</td>\n",
              "      <td>4.940656e-321</td>\n",
              "      <td>0.012095</td>\n",
              "      <td>-0.028908</td>\n",
              "      <td>-0.11903</td>\n",
              "      <td>-0.020406</td>\n",
              "      <td>-138.18</td>\n",
              "      <td>-51.100</td>\n",
              "      <td>-14.6590</td>\n",
              "      <td>-5.05820</td>\n",
              "      <td>0.125580</td>\n",
              "      <td>1.766878e-319</td>\n",
              "      <td>0.414660</td>\n",
              "    </tr>\n",
              "    <tr>\n",
              "      <th>0.02</th>\n",
              "      <td>-0.000007</td>\n",
              "      <td>1.9024</td>\n",
              "      <td>0.26086</td>\n",
              "      <td>-0.000580</td>\n",
              "      <td>4.940656e-321</td>\n",
              "      <td>0.011596</td>\n",
              "      <td>-0.059517</td>\n",
              "      <td>-0.13944</td>\n",
              "      <td>-0.047614</td>\n",
              "      <td>-139.36</td>\n",
              "      <td>-51.812</td>\n",
              "      <td>-14.6590</td>\n",
              "      <td>-5.29520</td>\n",
              "      <td>-0.130080</td>\n",
              "      <td>4.990557e-320</td>\n",
              "      <td>0.082286</td>\n",
              "    </tr>\n",
              "    <tr>\n",
              "      <th>0.03</th>\n",
              "      <td>0.000013</td>\n",
              "      <td>1.9024</td>\n",
              "      <td>0.26099</td>\n",
              "      <td>0.001409</td>\n",
              "      <td>4.940656e-321</td>\n",
              "      <td>0.013933</td>\n",
              "      <td>-0.079923</td>\n",
              "      <td>-0.15304</td>\n",
              "      <td>-0.023807</td>\n",
              "      <td>-135.57</td>\n",
              "      <td>-48.019</td>\n",
              "      <td>-11.3410</td>\n",
              "      <td>-0.79168</td>\n",
              "      <td>0.213010</td>\n",
              "      <td>1.394253e-320</td>\n",
              "      <td>0.190650</td>\n",
              "    </tr>\n",
              "    <tr>\n",
              "      <th>0.04</th>\n",
              "      <td>-0.000007</td>\n",
              "      <td>1.9024</td>\n",
              "      <td>0.26110</td>\n",
              "      <td>-0.001273</td>\n",
              "      <td>4.940656e-321</td>\n",
              "      <td>0.010793</td>\n",
              "      <td>-0.025507</td>\n",
              "      <td>-0.12924</td>\n",
              "      <td>-0.006802</td>\n",
              "      <td>-135.81</td>\n",
              "      <td>-49.204</td>\n",
              "      <td>-12.0520</td>\n",
              "      <td>-2.21390</td>\n",
              "      <td>-0.276490</td>\n",
              "      <td>3.581976e-321</td>\n",
              "      <td>-0.170400</td>\n",
              "    </tr>\n",
              "    <tr>\n",
              "      <th>0.05</th>\n",
              "      <td>-0.000007</td>\n",
              "      <td>1.9024</td>\n",
              "      <td>0.26124</td>\n",
              "      <td>0.001928</td>\n",
              "      <td>4.940656e-321</td>\n",
              "      <td>0.011915</td>\n",
              "      <td>-0.083324</td>\n",
              "      <td>-0.14964</td>\n",
              "      <td>-0.034010</td>\n",
              "      <td>-139.60</td>\n",
              "      <td>-53.471</td>\n",
              "      <td>-16.0820</td>\n",
              "      <td>-6.95450</td>\n",
              "      <td>0.323560</td>\n",
              "      <td>1.141292e-321</td>\n",
              "      <td>0.031745</td>\n",
              "    </tr>\n",
              "  </tbody>\n",
              "</table>\n",
              "</div>"
            ],
            "text/plain": [
              "            q1      q2       q3  ...      ddq1           ddq2      ddq3\n",
              "t                                ...                                   \n",
              "0.00 -0.000007  1.9024  0.26063  ... -0.045712  6.210306e-319  1.582900\n",
              "0.01  0.000013  1.9024  0.26073  ...  0.125580  1.766878e-319  0.414660\n",
              "0.02 -0.000007  1.9024  0.26086  ... -0.130080  4.990557e-320  0.082286\n",
              "0.03  0.000013  1.9024  0.26099  ...  0.213010  1.394253e-320  0.190650\n",
              "0.04 -0.000007  1.9024  0.26110  ... -0.276490  3.581976e-321 -0.170400\n",
              "0.05 -0.000007  1.9024  0.26124  ...  0.323560  1.141292e-321  0.031745\n",
              "\n",
              "[6 rows x 16 columns]"
            ]
          },
          "metadata": {
            "tags": []
          },
          "execution_count": 25
        }
      ]
    },
    {
      "cell_type": "markdown",
      "metadata": {
        "id": "FWDQwCU1bCic",
        "colab_type": "text"
      },
      "source": [
        "Create test data"
      ]
    },
    {
      "cell_type": "code",
      "metadata": {
        "id": "rtZOBfq-KQ1R",
        "colab_type": "code",
        "outputId": "7ce334de-2145-4a25-bc1d-8d6b3fc7a397",
        "colab": {
          "base_uri": "https://localhost:8080/",
          "height": 34
        }
      },
      "source": [
        "df1 = df [['q2','dq2','eps21', 'eps22', 'eps31',\n",
        "'eps32','ddq2']]#.dropna()\n",
        "\n",
        "y = np.array(df['I2']).reshape(8000,1)\n",
        "x = np.array(df1)\n",
        "#print(y.shape)\n",
        "print(\"n: \",x.shape[0],\" d: \",x.shape[1])\n",
        "#print(x)"
      ],
      "execution_count": 26,
      "outputs": [
        {
          "output_type": "stream",
          "text": [
            "n:  8000  d:  7\n"
          ],
          "name": "stdout"
        }
      ]
    },
    {
      "cell_type": "markdown",
      "metadata": {
        "id": "ivwUiDyRC2rf",
        "colab_type": "text"
      },
      "source": [
        "use linear model built above and calculating MSE"
      ]
    },
    {
      "cell_type": "code",
      "metadata": {
        "id": "VXF-neb9C2En",
        "colab_type": "code",
        "outputId": "1c579208-08e7-4bcb-80fc-f9da964c94a1",
        "colab": {
          "base_uri": "https://localhost:8080/",
          "height": 34
        }
      },
      "source": [
        "y_pred = regr.predict(x)\n",
        "mse = np.mean((y_pred-y)**2)\n",
        "print(\"MSE: \",mse)"
      ],
      "execution_count": 27,
      "outputs": [
        {
          "output_type": "stream",
          "text": [
            "MSE:  0.009723098281465446\n"
          ],
          "name": "stdout"
        }
      ]
    }
  ]
}
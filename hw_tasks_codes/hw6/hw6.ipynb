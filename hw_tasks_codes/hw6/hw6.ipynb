{
  "nbformat": 4,
  "nbformat_minor": 0,
  "metadata": {
    "colab": {
      "name": "hw6.ipynb",
      "provenance": [],
      "collapsed_sections": []
    },
    "kernelspec": {
      "name": "python3",
      "display_name": "Python 3"
    }
  },
  "cells": [
    {
      "cell_type": "markdown",
      "metadata": {
        "id": "y0f2X2EKBKPN",
        "colab_type": "text"
      },
      "source": [
        "**Question 1**"
      ]
    },
    {
      "cell_type": "code",
      "metadata": {
        "id": "KUUSaqCDAtAV",
        "colab_type": "code",
        "outputId": "f2b1df5e-d41c-4b9f-9095-761d45c3474e",
        "colab": {
          "base_uri": "https://localhost:8080/",
          "height": 87
        }
      },
      "source": [
        "import numpy as np\n",
        "X = np.array([[3,2,1],[2,4,5],[1,2,3],[0,2,5]])\n",
        "print(X)"
      ],
      "execution_count": 0,
      "outputs": [
        {
          "output_type": "stream",
          "text": [
            "[[3 2 1]\n",
            " [2 4 5]\n",
            " [1 2 3]\n",
            " [0 2 5]]\n"
          ],
          "name": "stdout"
        }
      ]
    },
    {
      "cell_type": "markdown",
      "metadata": {
        "id": "tRfGUnwaBUSS",
        "colab_type": "text"
      },
      "source": [
        "a. Find the sample mean \n"
      ]
    },
    {
      "cell_type": "code",
      "metadata": {
        "id": "y8ynpoZMB3Bc",
        "colab_type": "code",
        "outputId": "2e5c5980-dae1-4f08-e311-4f477e481a96",
        "colab": {
          "base_uri": "https://localhost:8080/",
          "height": 34
        }
      },
      "source": [
        "X_mean = np.mean(X, axis = 0)\n",
        "print(X_mean)"
      ],
      "execution_count": 0,
      "outputs": [
        {
          "output_type": "stream",
          "text": [
            "[1.5 2.5 3.5]\n"
          ],
          "name": "stdout"
        }
      ]
    },
    {
      "cell_type": "markdown",
      "metadata": {
        "id": "uuKBNeNiDUHF",
        "colab_type": "text"
      },
      "source": [
        "b. Zero-center the samples, and find the eigenvalues and eigenvectors of the data covariance\n",
        "matrix Q."
      ]
    },
    {
      "cell_type": "markdown",
      "metadata": {
        "id": "Z6F4kVNSDicg",
        "colab_type": "text"
      },
      "source": [
        "(1) Zero-center the samples"
      ]
    },
    {
      "cell_type": "code",
      "metadata": {
        "id": "V9f5IiIyDfzU",
        "colab_type": "code",
        "outputId": "142aa2b3-317c-47aa-b673-8867094ca608",
        "colab": {
          "base_uri": "https://localhost:8080/",
          "height": 87
        }
      },
      "source": [
        "X_original = X.copy()\n",
        "X = X - X_mean\n",
        "print(X)"
      ],
      "execution_count": 0,
      "outputs": [
        {
          "output_type": "stream",
          "text": [
            "[[ 1.5 -0.5 -2.5]\n",
            " [ 0.5  1.5  1.5]\n",
            " [-0.5 -0.5 -0.5]\n",
            " [-1.5 -0.5  1.5]]\n"
          ],
          "name": "stdout"
        }
      ]
    },
    {
      "cell_type": "markdown",
      "metadata": {
        "id": "rsqrgyquEuwO",
        "colab_type": "text"
      },
      "source": [
        "(2) Find the eigenvalues and eigenvectors of the data covariance matrix Q."
      ]
    },
    {
      "cell_type": "code",
      "metadata": {
        "id": "6_WFYS5AGnLA",
        "colab_type": "code",
        "outputId": "1d505310-66d9-448e-8b58-b57354642bc8",
        "colab": {
          "base_uri": "https://localhost:8080/",
          "height": 87
        }
      },
      "source": [
        "Q = 1/4 * np.matmul(X.T,X)  # covariance matrix Q\n",
        "evalue,evector = np.linalg.eig(Q)\n",
        "print(evalue)   # eigenvalues  #print(evector)  # eigenvectors(a row is a vector)\n",
        "evector1 = np.array(evector[:,0])\n",
        "evector2 = np.array(evector[:,1])\n",
        "evector3 = np.array(evector[:,2])\n",
        "evec = np.array([evector1,evector2,evector3])\n",
        "print(evec)"
      ],
      "execution_count": 0,
      "outputs": [
        {
          "output_type": "stream",
          "text": [
            "[3.56166464 1.1733803  0.01495506]\n",
            "[[-0.45056922  0.19247228  0.87174641]\n",
            " [-0.66677184 -0.72187235 -0.18524476]\n",
            " [-0.59363515  0.66472154 -0.45358856]]\n"
          ],
          "name": "stdout"
        }
      ]
    },
    {
      "cell_type": "markdown",
      "metadata": {
        "id": "pGPLOXEGZaxh",
        "colab_type": "text"
      },
      "source": [
        "test property of eigenvectors and eigenvalues"
      ]
    },
    {
      "cell_type": "code",
      "metadata": {
        "id": "SA-pSMsQOnkm",
        "colab_type": "code",
        "outputId": "253499d6-cf8d-46f8-e00e-3c3bc198be3a",
        "colab": {
          "base_uri": "https://localhost:8080/",
          "height": 69
        }
      },
      "source": [
        "print(np.matmul(Q,evector[:,0]))\n",
        "print(evalue[0]*evector[:,0])\n",
        "print(4.74888619/3.56166464)"
      ],
      "execution_count": 0,
      "outputs": [
        {
          "output_type": "stream",
          "text": [
            "[-1.60477647  0.68552171  3.10486836]\n",
            "[-1.60477647  0.68552171  3.10486836]\n",
            "1.3333333342692253\n"
          ],
          "name": "stdout"
        }
      ]
    },
    {
      "cell_type": "code",
      "metadata": {
        "id": "ITX2YQL2E6Nj",
        "colab_type": "code",
        "outputId": "cb6b8bd0-336b-4c70-f745-774d4ed03c7a",
        "colab": {
          "base_uri": "https://localhost:8080/",
          "height": 122
        }
      },
      "source": [
        "from sklearn.decomposition import PCA\n",
        "\n",
        "n_components = min(X.shape[0],X.shape[1])\n",
        "pca = PCA(n_components=n_components)\n",
        "pca.fit(X)\n",
        "e_vectors = pca.components_ # get eignvectors\n",
        "print('eignvectors:')\n",
        "print(e_vectors)\n",
        "e_values = pca.explained_variance_\n",
        "print('eignvalues:')\n",
        "print(e_values)"
      ],
      "execution_count": 0,
      "outputs": [
        {
          "output_type": "stream",
          "text": [
            "eignvectors:\n",
            "[[ 0.45056922 -0.19247228 -0.87174641]\n",
            " [ 0.66677184  0.72187235  0.18524476]\n",
            " [-0.59363515  0.66472154 -0.45358856]]\n",
            "eignvalues:\n",
            "[4.74888619 1.56450706 0.01994008]\n"
          ],
          "name": "stdout"
        }
      ]
    },
    {
      "cell_type": "markdown",
      "metadata": {
        "id": "H0vCOJX3WuBW",
        "colab_type": "text"
      },
      "source": [
        "c. Find the PCA coefficients corresponding to each of the samples in X."
      ]
    },
    {
      "cell_type": "code",
      "metadata": {
        "id": "53CsPq6zKIck",
        "colab_type": "code",
        "outputId": "e0922202-f10b-4136-b31d-ba3bfef84947",
        "colab": {
          "base_uri": "https://localhost:8080/",
          "height": 87
        }
      },
      "source": [
        "scores = np.matmul(X,evec.T)\n",
        "print(scores)"
      ],
      "execution_count": 0,
      "outputs": [
        {
          "output_type": "stream",
          "text": [
            "[[-2.95145599 -0.17610969 -0.0888421 ]\n",
            " [ 1.37104342 -1.69406159  0.0198819 ]\n",
            " [-0.30682473  0.78694448  0.19125108]\n",
            " [ 1.8872373   1.0832268  -0.12229089]]\n"
          ],
          "name": "stdout"
        }
      ]
    },
    {
      "cell_type": "markdown",
      "metadata": {
        "id": "tGWRvipLXAP9",
        "colab_type": "text"
      },
      "source": [
        "d. Reconstruct the original samples from the top two principal components, and report the\n",
        "reconstruction error for each of the samples.\n",
        "\n",
        "PCA reconstruction= PC scores * Eigenvectors⊤ + Mean"
      ]
    },
    {
      "cell_type": "code",
      "metadata": {
        "id": "rwFzn6nbXLn5",
        "colab_type": "code",
        "outputId": "7d518d6f-3f5b-4fde-cb04-c6c52802828e",
        "colab": {
          "base_uri": "https://localhost:8080/",
          "height": 87
        }
      },
      "source": [
        "np.set_printoptions(precision=4)\n",
        "eigen12 = np.delete(evec, 2, 0)\n",
        "#print(eigen12)\n",
        "PC12 = np.delete(scores, 2, 1)\n",
        "#print(PC12)\n",
        "recons = np.matmul(PC12,eigen12)+ X_mean \n",
        "print(recons)"
      ],
      "execution_count": 0,
      "outputs": [
        {
          "output_type": "stream",
          "text": [
            "[[ 2.9473  2.0591  0.9597]\n",
            " [ 2.0118  3.9868  5.009 ]\n",
            " [ 1.1135  1.8729  3.0867]\n",
            " [-0.0726  2.0813  4.9445]]\n"
          ],
          "name": "stdout"
        }
      ]
    },
    {
      "cell_type": "markdown",
      "metadata": {
        "id": "JCDfV8BQJs_b",
        "colab_type": "text"
      },
      "source": [
        "Reconstruction error"
      ]
    },
    {
      "cell_type": "code",
      "metadata": {
        "id": "W6zRvZ_sJv7U",
        "colab_type": "code",
        "outputId": "32b422fa-b28b-41bd-d2af-75d13cec42f9",
        "colab": {
          "base_uri": "https://localhost:8080/",
          "height": 34
        }
      },
      "source": [
        "#print(recons-X_original)\n",
        "RE = np.linalg.norm((recons-X_original),axis=1)\n",
        "print(RE)"
      ],
      "execution_count": 0,
      "outputs": [
        {
          "output_type": "stream",
          "text": [
            "[0.0888 0.0199 0.1913 0.1223]\n"
          ],
          "name": "stdout"
        }
      ]
    },
    {
      "cell_type": "markdown",
      "metadata": {
        "id": "wzUT1YcpyPMH",
        "colab_type": "text"
      },
      "source": [
        "**Question 3**"
      ]
    },
    {
      "cell_type": "markdown",
      "metadata": {
        "id": "S_rzengYyTeM",
        "colab_type": "text"
      },
      "source": [
        "Using the Senate Votes dataset demo’ed in Lecture 11, perform k-means clustering\n",
        "with k = 2 and show that you can learn (most of) the Senators’ parties in a completely\n",
        "unsupervised manner. Which Senators did your algorithm make a mistake on, and why?"
      ]
    },
    {
      "cell_type": "code",
      "metadata": {
        "id": "NAQ-VVkuyahy",
        "colab_type": "code",
        "colab": {}
      },
      "source": [
        "import numpy as np\n",
        "import matplotlib\n",
        "import matplotlib.pyplot as plt"
      ],
      "execution_count": 0,
      "outputs": []
    },
    {
      "cell_type": "code",
      "metadata": {
        "id": "8xBK522YynQG",
        "colab_type": "code",
        "colab": {}
      },
      "source": [
        "import pandas as pd\n",
        "\n",
        "url_votes = 'https://raw.githubusercontent.com/exemplary-citizen/PCA-and-Senate-Voting-Data/master/senator_pca_problem/senator_data_pca/'\n",
        "senator_df =  pd.read_csv(url_votes + 'data_matrix.csv',error_bad_lines=False)\n",
        "af = pd.read_csv(url_votes + 'politician_labels.txt', header=None)\n",
        "af[\"affiliations\"] = af[0].str.split().str[-1]"
      ],
      "execution_count": 0,
      "outputs": []
    },
    {
      "cell_type": "code",
      "metadata": {
        "id": "zfwSzOpiy7oN",
        "colab_type": "code",
        "outputId": "921e16e2-d66d-44d0-fb56-806873e7a6ec",
        "colab": {
          "base_uri": "https://localhost:8080/",
          "height": 383
        }
      },
      "source": [
        "senator_df.head()"
      ],
      "execution_count": 0,
      "outputs": [
        {
          "output_type": "execute_result",
          "data": {
            "text/html": [
              "<div>\n",
              "<style scoped>\n",
              "    .dataframe tbody tr th:only-of-type {\n",
              "        vertical-align: middle;\n",
              "    }\n",
              "\n",
              "    .dataframe tbody tr th {\n",
              "        vertical-align: top;\n",
              "    }\n",
              "\n",
              "    .dataframe thead th {\n",
              "        text-align: right;\n",
              "    }\n",
              "</style>\n",
              "<table border=\"1\" class=\"dataframe\">\n",
              "  <thead>\n",
              "    <tr style=\"text-align: right;\">\n",
              "      <th></th>\n",
              "      <th>Unnamed: 0</th>\n",
              "      <th>bill_type bill_name bill_ID</th>\n",
              "      <th>missing_votes</th>\n",
              "      <th>Arlen Specter (PA)</th>\n",
              "      <th>Barack H. Obama (IL)</th>\n",
              "      <th>BarbaraA Mikulski(MD)</th>\n",
              "      <th>BarbaraBoxer(CA)</th>\n",
              "      <th>Bill Nelson(FL)</th>\n",
              "      <th>BlancheL.Lincoln(AR)</th>\n",
              "      <th>ByronL.Dorgan(ND)</th>\n",
              "      <th>C.SaxbyChambliss(GA)</th>\n",
              "      <th>CarlLevin(MI)</th>\n",
              "      <th>CharlesE.'Chuck' Grassley(IA)</th>\n",
              "      <th>CharlesE.'Chuck'Schumer(NY)</th>\n",
              "      <th>CharlesT.'Chuck' Hagel(NE)</th>\n",
              "      <th>ChristopherJ.Dodd(CT)</th>\n",
              "      <th>ChristopherS.'Kit'Bond(MO)</th>\n",
              "      <th>ConradR.Burns(MT)</th>\n",
              "      <th>CraigThomas(WY)</th>\n",
              "      <th>DanielK.Inouye(HI)</th>\n",
              "      <th>DanielKahikinaAkaka(HI)</th>\n",
              "      <th>DavidB.Vitter (LA)</th>\n",
              "      <th>DebbieAnnStabenow(MI)</th>\n",
              "      <th>DianneFeinstein(CA)</th>\n",
              "      <th>E. Benjamin'Ben'Nelson(NE)</th>\n",
              "      <th>EdwardM.'Ted'Kennedy(MA)</th>\n",
              "      <th>ElizabethH.Dole(NC)</th>\n",
              "      <th>EvanBayh(IN)</th>\n",
              "      <th>FrankR.Lautenberg(NJ)</th>\n",
              "      <th>GeorgeFelixAllen(VA)</th>\n",
              "      <th>GeorgeV.Voinovich(OH)</th>\n",
              "      <th>GordonHaroldSmith(OR)</th>\n",
              "      <th>HarryM.Reid(NV)</th>\n",
              "      <th>HerbertH.’Herb'Kohl(WI)</th>\n",
              "      <th>HillaryRodhamClinton(NY)</th>\n",
              "      <th>JamesM.'Jim'Inhofe(OK)</th>\n",
              "      <th>JamesM.'Jim'Talent(MO)</th>\n",
              "      <th>JamesMerrill'Jim'Jeffords(VT)</th>\n",
              "      <th>JeffBingaman(NM)</th>\n",
              "      <th>JeffersonB.'Jeff'SessionsIII(AL)</th>\n",
              "      <th>...</th>\n",
              "      <th>LisaA.Murkowski(AK)</th>\n",
              "      <th>MariaCantwell(WA)</th>\n",
              "      <th>MarkDayton(MN)</th>\n",
              "      <th>MarkPryor(AR)</th>\n",
              "      <th>MaryL.Landrieu(LA)</th>\n",
              "      <th>MaxS.Baucus(MT)</th>\n",
              "      <th>MelMartinez(FL)</th>\n",
              "      <th>MichaelB.Enzi(WY)</th>\n",
              "      <th>MichaelD.'Mike'Crapo(ID)</th>\n",
              "      <th>Michael'Mike'DeWine(OH)</th>\n",
              "      <th>MitchMcConnell(KY)</th>\n",
              "      <th>NormColeman(MN)</th>\n",
              "      <th>OlympiaJ.Snowe(ME)</th>\n",
              "      <th>OrrinG.Hatch(UT)</th>\n",
              "      <th>PatRoberts(KS)</th>\n",
              "      <th>PatrickJ.Leahy(VT)</th>\n",
              "      <th>PattyMurray(WA)</th>\n",
              "      <th>PaulS.Sarbanes(MD)</th>\n",
              "      <th>PeteV.Domenici(NM)</th>\n",
              "      <th>RichardC.Shelby(AL)</th>\n",
              "      <th>RichardG.Lugar(IN)</th>\n",
              "      <th>RichardJ.'Dick'Durbin(IL)</th>\n",
              "      <th>RichardJ.'Rick'Santorum(PA)</th>\n",
              "      <th>RichardM.Burr(NC)</th>\n",
              "      <th>RobertC.Byrd(WV)</th>\n",
              "      <th>RobertF.Bennett(UT)</th>\n",
              "      <th>RobertMenendez(NJ)</th>\n",
              "      <th>RonWyden(OR)</th>\n",
              "      <th>RussellD.Feingold (WI)</th>\n",
              "      <th>SamuelD.'Sam'Brownback(KS)</th>\n",
              "      <th>SusanM.Collins(ME)</th>\n",
              "      <th>TedStevens(AK)</th>\n",
              "      <th>ThadCochran(MS)</th>\n",
              "      <th>ThomasAllen'Tom'Coburn(OK)</th>\n",
              "      <th>ThomasRichardCarper(DE)</th>\n",
              "      <th>Thomas'Tom'Harkin(IA)</th>\n",
              "      <th>TimP.Johnson(SD)</th>\n",
              "      <th>TrentLott(MS)</th>\n",
              "      <th>WayneA.Allard(CO)</th>\n",
              "      <th>WilliamH.'Bill'Frist(TN)</th>\n",
              "    </tr>\n",
              "  </thead>\n",
              "  <tbody>\n",
              "    <tr>\n",
              "      <th>0</th>\n",
              "      <td>0</td>\n",
              "      <td>Appropriations_Transit Security Amendment_3866</td>\n",
              "      <td>0.0</td>\n",
              "      <td>1.0</td>\n",
              "      <td>1.0</td>\n",
              "      <td>1.0</td>\n",
              "      <td>1.0</td>\n",
              "      <td>1.0</td>\n",
              "      <td>1.0</td>\n",
              "      <td>1.0</td>\n",
              "      <td>-1.0</td>\n",
              "      <td>1.0</td>\n",
              "      <td>-1.0</td>\n",
              "      <td>1.0</td>\n",
              "      <td>-1.0</td>\n",
              "      <td>1.0</td>\n",
              "      <td>-1.0</td>\n",
              "      <td>-1.0</td>\n",
              "      <td>-1.0</td>\n",
              "      <td>1.0</td>\n",
              "      <td>1.0</td>\n",
              "      <td>-1.0</td>\n",
              "      <td>1.0</td>\n",
              "      <td>1.0</td>\n",
              "      <td>-1.0</td>\n",
              "      <td>1.0</td>\n",
              "      <td>-1.0</td>\n",
              "      <td>1.0</td>\n",
              "      <td>1.0</td>\n",
              "      <td>1.0</td>\n",
              "      <td>-1.0</td>\n",
              "      <td>-1.0</td>\n",
              "      <td>1.0</td>\n",
              "      <td>1.0</td>\n",
              "      <td>1.0</td>\n",
              "      <td>-1.0</td>\n",
              "      <td>1.0</td>\n",
              "      <td>1.0</td>\n",
              "      <td>1.0</td>\n",
              "      <td>-1.0</td>\n",
              "      <td>...</td>\n",
              "      <td>-1.0</td>\n",
              "      <td>1.0</td>\n",
              "      <td>1.0</td>\n",
              "      <td>1.0</td>\n",
              "      <td>1.0</td>\n",
              "      <td>1.0</td>\n",
              "      <td>-1.0</td>\n",
              "      <td>-1.0</td>\n",
              "      <td>-1.0</td>\n",
              "      <td>1.0</td>\n",
              "      <td>-1.0</td>\n",
              "      <td>-1.0</td>\n",
              "      <td>1.0</td>\n",
              "      <td>-1.0</td>\n",
              "      <td>-1.0</td>\n",
              "      <td>1.0</td>\n",
              "      <td>1.0</td>\n",
              "      <td>1.0</td>\n",
              "      <td>-1.0</td>\n",
              "      <td>-1.0</td>\n",
              "      <td>-1.0</td>\n",
              "      <td>1.0</td>\n",
              "      <td>1.0</td>\n",
              "      <td>-1.0</td>\n",
              "      <td>1.0</td>\n",
              "      <td>-1.0</td>\n",
              "      <td>1.0</td>\n",
              "      <td>1.0</td>\n",
              "      <td>1.0</td>\n",
              "      <td>-1.0</td>\n",
              "      <td>-1.0</td>\n",
              "      <td>-1.0</td>\n",
              "      <td>-1.0</td>\n",
              "      <td>-1.0</td>\n",
              "      <td>1.0</td>\n",
              "      <td>1.0</td>\n",
              "      <td>1.0</td>\n",
              "      <td>-1.0</td>\n",
              "      <td>-1.0</td>\n",
              "      <td>-1.0</td>\n",
              "    </tr>\n",
              "    <tr>\n",
              "      <th>1</th>\n",
              "      <td>1</td>\n",
              "      <td>Budget_Spending_and_Taxes_2007 Budget Resoluti...</td>\n",
              "      <td>0.0</td>\n",
              "      <td>1.0</td>\n",
              "      <td>-1.0</td>\n",
              "      <td>-1.0</td>\n",
              "      <td>-1.0</td>\n",
              "      <td>-1.0</td>\n",
              "      <td>-1.0</td>\n",
              "      <td>-1.0</td>\n",
              "      <td>1.0</td>\n",
              "      <td>-1.0</td>\n",
              "      <td>1.0</td>\n",
              "      <td>-1.0</td>\n",
              "      <td>1.0</td>\n",
              "      <td>-1.0</td>\n",
              "      <td>1.0</td>\n",
              "      <td>1.0</td>\n",
              "      <td>1.0</td>\n",
              "      <td>-1.0</td>\n",
              "      <td>-1.0</td>\n",
              "      <td>1.0</td>\n",
              "      <td>-1.0</td>\n",
              "      <td>-1.0</td>\n",
              "      <td>-1.0</td>\n",
              "      <td>-1.0</td>\n",
              "      <td>1.0</td>\n",
              "      <td>-1.0</td>\n",
              "      <td>-1.0</td>\n",
              "      <td>1.0</td>\n",
              "      <td>1.0</td>\n",
              "      <td>1.0</td>\n",
              "      <td>-1.0</td>\n",
              "      <td>-1.0</td>\n",
              "      <td>-1.0</td>\n",
              "      <td>1.0</td>\n",
              "      <td>1.0</td>\n",
              "      <td>-1.0</td>\n",
              "      <td>-1.0</td>\n",
              "      <td>1.0</td>\n",
              "      <td>...</td>\n",
              "      <td>1.0</td>\n",
              "      <td>-1.0</td>\n",
              "      <td>-1.0</td>\n",
              "      <td>-1.0</td>\n",
              "      <td>1.0</td>\n",
              "      <td>-1.0</td>\n",
              "      <td>1.0</td>\n",
              "      <td>1.0</td>\n",
              "      <td>1.0</td>\n",
              "      <td>-1.0</td>\n",
              "      <td>1.0</td>\n",
              "      <td>-1.0</td>\n",
              "      <td>1.0</td>\n",
              "      <td>1.0</td>\n",
              "      <td>1.0</td>\n",
              "      <td>-1.0</td>\n",
              "      <td>-1.0</td>\n",
              "      <td>-1.0</td>\n",
              "      <td>1.0</td>\n",
              "      <td>1.0</td>\n",
              "      <td>1.0</td>\n",
              "      <td>-1.0</td>\n",
              "      <td>1.0</td>\n",
              "      <td>1.0</td>\n",
              "      <td>-1.0</td>\n",
              "      <td>1.0</td>\n",
              "      <td>-1.0</td>\n",
              "      <td>-1.0</td>\n",
              "      <td>-1.0</td>\n",
              "      <td>1.0</td>\n",
              "      <td>-1.0</td>\n",
              "      <td>1.0</td>\n",
              "      <td>1.0</td>\n",
              "      <td>1.0</td>\n",
              "      <td>-1.0</td>\n",
              "      <td>-1.0</td>\n",
              "      <td>-1.0</td>\n",
              "      <td>1.0</td>\n",
              "      <td>1.0</td>\n",
              "      <td>1.0</td>\n",
              "    </tr>\n",
              "    <tr>\n",
              "      <th>2</th>\n",
              "      <td>2</td>\n",
              "      <td>\"Budget, Spending and Taxes_Debt Limit Increas...</td>\n",
              "      <td>0.0</td>\n",
              "      <td>1.0</td>\n",
              "      <td>-1.0</td>\n",
              "      <td>-1.0</td>\n",
              "      <td>-1.0</td>\n",
              "      <td>-1.0</td>\n",
              "      <td>-1.0</td>\n",
              "      <td>-1.0</td>\n",
              "      <td>1.0</td>\n",
              "      <td>-1.0</td>\n",
              "      <td>1.0</td>\n",
              "      <td>-1.0</td>\n",
              "      <td>1.0</td>\n",
              "      <td>-1.0</td>\n",
              "      <td>1.0</td>\n",
              "      <td>-1.0</td>\n",
              "      <td>1.0</td>\n",
              "      <td>-1.0</td>\n",
              "      <td>-1.0</td>\n",
              "      <td>1.0</td>\n",
              "      <td>-1.0</td>\n",
              "      <td>-1.0</td>\n",
              "      <td>-1.0</td>\n",
              "      <td>-1.0</td>\n",
              "      <td>1.0</td>\n",
              "      <td>-1.0</td>\n",
              "      <td>-1.0</td>\n",
              "      <td>1.0</td>\n",
              "      <td>1.0</td>\n",
              "      <td>1.0</td>\n",
              "      <td>-1.0</td>\n",
              "      <td>-1.0</td>\n",
              "      <td>-1.0</td>\n",
              "      <td>1.0</td>\n",
              "      <td>1.0</td>\n",
              "      <td>-1.0</td>\n",
              "      <td>-1.0</td>\n",
              "      <td>1.0</td>\n",
              "      <td>...</td>\n",
              "      <td>1.0</td>\n",
              "      <td>-1.0</td>\n",
              "      <td>-1.0</td>\n",
              "      <td>-1.0</td>\n",
              "      <td>-1.0</td>\n",
              "      <td>-1.0</td>\n",
              "      <td>1.0</td>\n",
              "      <td>1.0</td>\n",
              "      <td>1.0</td>\n",
              "      <td>1.0</td>\n",
              "      <td>1.0</td>\n",
              "      <td>1.0</td>\n",
              "      <td>1.0</td>\n",
              "      <td>1.0</td>\n",
              "      <td>1.0</td>\n",
              "      <td>-1.0</td>\n",
              "      <td>-1.0</td>\n",
              "      <td>-1.0</td>\n",
              "      <td>1.0</td>\n",
              "      <td>1.0</td>\n",
              "      <td>1.0</td>\n",
              "      <td>-1.0</td>\n",
              "      <td>1.0</td>\n",
              "      <td>1.0</td>\n",
              "      <td>-1.0</td>\n",
              "      <td>1.0</td>\n",
              "      <td>-1.0</td>\n",
              "      <td>-1.0</td>\n",
              "      <td>-1.0</td>\n",
              "      <td>1.0</td>\n",
              "      <td>1.0</td>\n",
              "      <td>1.0</td>\n",
              "      <td>1.0</td>\n",
              "      <td>-1.0</td>\n",
              "      <td>-1.0</td>\n",
              "      <td>-1.0</td>\n",
              "      <td>-1.0</td>\n",
              "      <td>1.0</td>\n",
              "      <td>1.0</td>\n",
              "      <td>1.0</td>\n",
              "    </tr>\n",
              "    <tr>\n",
              "      <th>3</th>\n",
              "      <td>3</td>\n",
              "      <td>\"Budget, Spending and Taxes_Education Funding ...</td>\n",
              "      <td>0.0</td>\n",
              "      <td>-1.0</td>\n",
              "      <td>1.0</td>\n",
              "      <td>1.0</td>\n",
              "      <td>1.0</td>\n",
              "      <td>1.0</td>\n",
              "      <td>1.0</td>\n",
              "      <td>1.0</td>\n",
              "      <td>-1.0</td>\n",
              "      <td>1.0</td>\n",
              "      <td>-1.0</td>\n",
              "      <td>1.0</td>\n",
              "      <td>-1.0</td>\n",
              "      <td>1.0</td>\n",
              "      <td>-1.0</td>\n",
              "      <td>-1.0</td>\n",
              "      <td>-1.0</td>\n",
              "      <td>1.0</td>\n",
              "      <td>1.0</td>\n",
              "      <td>-1.0</td>\n",
              "      <td>1.0</td>\n",
              "      <td>1.0</td>\n",
              "      <td>1.0</td>\n",
              "      <td>1.0</td>\n",
              "      <td>-1.0</td>\n",
              "      <td>1.0</td>\n",
              "      <td>1.0</td>\n",
              "      <td>-1.0</td>\n",
              "      <td>-1.0</td>\n",
              "      <td>-1.0</td>\n",
              "      <td>1.0</td>\n",
              "      <td>1.0</td>\n",
              "      <td>1.0</td>\n",
              "      <td>-1.0</td>\n",
              "      <td>-1.0</td>\n",
              "      <td>1.0</td>\n",
              "      <td>1.0</td>\n",
              "      <td>-1.0</td>\n",
              "      <td>...</td>\n",
              "      <td>-1.0</td>\n",
              "      <td>1.0</td>\n",
              "      <td>1.0</td>\n",
              "      <td>1.0</td>\n",
              "      <td>1.0</td>\n",
              "      <td>1.0</td>\n",
              "      <td>-1.0</td>\n",
              "      <td>-1.0</td>\n",
              "      <td>-1.0</td>\n",
              "      <td>1.0</td>\n",
              "      <td>-1.0</td>\n",
              "      <td>-1.0</td>\n",
              "      <td>1.0</td>\n",
              "      <td>-1.0</td>\n",
              "      <td>-1.0</td>\n",
              "      <td>1.0</td>\n",
              "      <td>1.0</td>\n",
              "      <td>1.0</td>\n",
              "      <td>-1.0</td>\n",
              "      <td>-1.0</td>\n",
              "      <td>-1.0</td>\n",
              "      <td>1.0</td>\n",
              "      <td>-1.0</td>\n",
              "      <td>-1.0</td>\n",
              "      <td>1.0</td>\n",
              "      <td>-1.0</td>\n",
              "      <td>1.0</td>\n",
              "      <td>1.0</td>\n",
              "      <td>1.0</td>\n",
              "      <td>-1.0</td>\n",
              "      <td>1.0</td>\n",
              "      <td>-1.0</td>\n",
              "      <td>-1.0</td>\n",
              "      <td>-1.0</td>\n",
              "      <td>1.0</td>\n",
              "      <td>1.0</td>\n",
              "      <td>1.0</td>\n",
              "      <td>-1.0</td>\n",
              "      <td>-1.0</td>\n",
              "      <td>-1.0</td>\n",
              "    </tr>\n",
              "    <tr>\n",
              "      <th>4</th>\n",
              "      <td>4</td>\n",
              "      <td>Budget, Spending and Taxes_Reinstate Pay-As-Yo...</td>\n",
              "      <td>0.0</td>\n",
              "      <td>-1.0</td>\n",
              "      <td>1.0</td>\n",
              "      <td>1.0</td>\n",
              "      <td>1.0</td>\n",
              "      <td>1.0</td>\n",
              "      <td>1.0</td>\n",
              "      <td>1.0</td>\n",
              "      <td>-1.0</td>\n",
              "      <td>1.0</td>\n",
              "      <td>-1.0</td>\n",
              "      <td>1.0</td>\n",
              "      <td>-1.0</td>\n",
              "      <td>1.0</td>\n",
              "      <td>-1.0</td>\n",
              "      <td>-1.0</td>\n",
              "      <td>-1.0</td>\n",
              "      <td>1.0</td>\n",
              "      <td>1.0</td>\n",
              "      <td>-1.0</td>\n",
              "      <td>1.0</td>\n",
              "      <td>1.0</td>\n",
              "      <td>1.0</td>\n",
              "      <td>1.0</td>\n",
              "      <td>-1.0</td>\n",
              "      <td>1.0</td>\n",
              "      <td>1.0</td>\n",
              "      <td>-1.0</td>\n",
              "      <td>1.0</td>\n",
              "      <td>-1.0</td>\n",
              "      <td>1.0</td>\n",
              "      <td>1.0</td>\n",
              "      <td>1.0</td>\n",
              "      <td>-1.0</td>\n",
              "      <td>-1.0</td>\n",
              "      <td>1.0</td>\n",
              "      <td>1.0</td>\n",
              "      <td>-1.0</td>\n",
              "      <td>...</td>\n",
              "      <td>-1.0</td>\n",
              "      <td>1.0</td>\n",
              "      <td>1.0</td>\n",
              "      <td>1.0</td>\n",
              "      <td>1.0</td>\n",
              "      <td>1.0</td>\n",
              "      <td>-1.0</td>\n",
              "      <td>-1.0</td>\n",
              "      <td>-1.0</td>\n",
              "      <td>-1.0</td>\n",
              "      <td>-1.0</td>\n",
              "      <td>-1.0</td>\n",
              "      <td>1.0</td>\n",
              "      <td>-1.0</td>\n",
              "      <td>-1.0</td>\n",
              "      <td>1.0</td>\n",
              "      <td>1.0</td>\n",
              "      <td>1.0</td>\n",
              "      <td>-1.0</td>\n",
              "      <td>-1.0</td>\n",
              "      <td>-1.0</td>\n",
              "      <td>1.0</td>\n",
              "      <td>-1.0</td>\n",
              "      <td>-1.0</td>\n",
              "      <td>1.0</td>\n",
              "      <td>-1.0</td>\n",
              "      <td>1.0</td>\n",
              "      <td>1.0</td>\n",
              "      <td>1.0</td>\n",
              "      <td>-1.0</td>\n",
              "      <td>1.0</td>\n",
              "      <td>-1.0</td>\n",
              "      <td>-1.0</td>\n",
              "      <td>-1.0</td>\n",
              "      <td>1.0</td>\n",
              "      <td>1.0</td>\n",
              "      <td>1.0</td>\n",
              "      <td>-1.0</td>\n",
              "      <td>-1.0</td>\n",
              "      <td>-1.0</td>\n",
              "    </tr>\n",
              "  </tbody>\n",
              "</table>\n",
              "<p>5 rows × 103 columns</p>\n",
              "</div>"
            ],
            "text/plain": [
              "   Unnamed: 0  ...  WilliamH.'Bill'Frist(TN)\n",
              "0           0  ...                      -1.0\n",
              "1           1  ...                       1.0\n",
              "2           2  ...                       1.0\n",
              "3           3  ...                      -1.0\n",
              "4           4  ...                      -1.0\n",
              "\n",
              "[5 rows x 103 columns]"
            ]
          },
          "metadata": {
            "tags": []
          },
          "execution_count": 45
        }
      ]
    },
    {
      "cell_type": "code",
      "metadata": {
        "id": "ktaMM3vcRxvo",
        "colab_type": "code",
        "outputId": "47c1019f-55d5-4f16-aad1-b2ca86839b6e",
        "colab": {
          "base_uri": "https://localhost:8080/",
          "height": 199
        }
      },
      "source": [
        "af.head()"
      ],
      "execution_count": 0,
      "outputs": [
        {
          "output_type": "execute_result",
          "data": {
            "text/html": [
              "<div>\n",
              "<style scoped>\n",
              "    .dataframe tbody tr th:only-of-type {\n",
              "        vertical-align: middle;\n",
              "    }\n",
              "\n",
              "    .dataframe tbody tr th {\n",
              "        vertical-align: top;\n",
              "    }\n",
              "\n",
              "    .dataframe thead th {\n",
              "        text-align: right;\n",
              "    }\n",
              "</style>\n",
              "<table border=\"1\" class=\"dataframe\">\n",
              "  <thead>\n",
              "    <tr style=\"text-align: right;\">\n",
              "      <th></th>\n",
              "      <th>0</th>\n",
              "      <th>affiliations</th>\n",
              "    </tr>\n",
              "  </thead>\n",
              "  <tbody>\n",
              "    <tr>\n",
              "      <th>0</th>\n",
              "      <td>Specter Red</td>\n",
              "      <td>Red</td>\n",
              "    </tr>\n",
              "    <tr>\n",
              "      <th>1</th>\n",
              "      <td>Obama Blue</td>\n",
              "      <td>Blue</td>\n",
              "    </tr>\n",
              "    <tr>\n",
              "      <th>2</th>\n",
              "      <td>Mikulski Blue</td>\n",
              "      <td>Blue</td>\n",
              "    </tr>\n",
              "    <tr>\n",
              "      <th>3</th>\n",
              "      <td>Boxer Blue</td>\n",
              "      <td>Blue</td>\n",
              "    </tr>\n",
              "    <tr>\n",
              "      <th>4</th>\n",
              "      <td>Nelson Blue</td>\n",
              "      <td>Blue</td>\n",
              "    </tr>\n",
              "  </tbody>\n",
              "</table>\n",
              "</div>"
            ],
            "text/plain": [
              "               0 affiliations\n",
              "0    Specter Red          Red\n",
              "1     Obama Blue         Blue\n",
              "2  Mikulski Blue         Blue\n",
              "3     Boxer Blue         Blue\n",
              "4    Nelson Blue         Blue"
            ]
          },
          "metadata": {
            "tags": []
          },
          "execution_count": 46
        }
      ]
    },
    {
      "cell_type": "code",
      "metadata": {
        "id": "4NIA7MWqyoNk",
        "colab_type": "code",
        "colab": {}
      },
      "source": [
        "X = np.array(senator_df.values[:, 3:].T, dtype='float64') #transpose to get senators as rows"
      ],
      "execution_count": 0,
      "outputs": []
    },
    {
      "cell_type": "markdown",
      "metadata": {
        "id": "nbJjED_SS_aQ",
        "colab_type": "text"
      },
      "source": [
        "Check shape of data sets"
      ]
    },
    {
      "cell_type": "code",
      "metadata": {
        "id": "nu_nbfac0Cnt",
        "colab_type": "code",
        "outputId": "635fe0e0-e76f-4a1d-edfe-67dade4ab86c",
        "colab": {
          "base_uri": "https://localhost:8080/",
          "height": 192
        }
      },
      "source": [
        "print(senator_df.shape)\n",
        "print(af.shape)\n",
        "#print(af)\n",
        "#print(af[\"affiliations\"])\n",
        "print(X.shape)\n",
        "print(X)"
      ],
      "execution_count": 0,
      "outputs": [
        {
          "output_type": "stream",
          "text": [
            "(542, 103)\n",
            "(100, 2)\n",
            "(100, 542)\n",
            "[[ 1.0000  1.0000  1.0000 ...  1.0000  1.0000  1.0000]\n",
            " [ 1.0000 -1.0000 -1.0000 ...  0.0000  0.0000  0.0000]\n",
            " [ 1.0000 -1.0000 -1.0000 ...  1.0000 -1.0000 -1.0000]\n",
            " ...\n",
            " [-1.0000  1.0000  1.0000 ...  1.0000  1.0000  1.0000]\n",
            " [-1.0000  1.0000  1.0000 ...  0.0000  0.0000  0.0000]\n",
            " [-1.0000  1.0000  1.0000 ...  1.0000  1.0000  1.0000]]\n"
          ],
          "name": "stdout"
        }
      ]
    },
    {
      "cell_type": "markdown",
      "metadata": {
        "id": "m312Gn8xS6k5",
        "colab_type": "text"
      },
      "source": [
        "Check part of affiliations"
      ]
    },
    {
      "cell_type": "code",
      "metadata": {
        "id": "xlumcQEW4Uk5",
        "colab_type": "code",
        "outputId": "4f3e575d-100c-4824-f152-0c55691a2b60",
        "colab": {
          "base_uri": "https://localhost:8080/",
          "height": 209
        }
      },
      "source": [
        "affiliations = af[\"affiliations\"]\n",
        "print(affiliations[30:40])"
      ],
      "execution_count": 0,
      "outputs": [
        {
          "output_type": "stream",
          "text": [
            "30      Blue\n",
            "31      Blue\n",
            "32       Red\n",
            "33       Red\n",
            "34    Yellow\n",
            "35      Blue\n",
            "36       Red\n",
            "37       Red\n",
            "38       Red\n",
            "39       Red\n",
            "Name: affiliations, dtype: object\n"
          ],
          "name": "stdout"
        }
      ]
    },
    {
      "cell_type": "markdown",
      "metadata": {
        "id": "PQsilBFXSzdq",
        "colab_type": "text"
      },
      "source": [
        "Visualize affiliations"
      ]
    },
    {
      "cell_type": "code",
      "metadata": {
        "id": "68M56WGG1k0c",
        "colab_type": "code",
        "outputId": "5fc73996-fb9d-46e4-e65b-85e45dd479e4",
        "colab": {
          "base_uri": "https://localhost:8080/",
          "height": 336
        }
      },
      "source": [
        "affiliations = af[\"affiliations\"]\n",
        "senator_num = range(100)\n",
        "plt.figure(figsize=(18,5))\n",
        "plt.scatter(senator_num, np.zeros_like(senator_num), c=affiliations)\n",
        "plt.title('Parties of senators')\n",
        "plt.show()"
      ],
      "execution_count": 0,
      "outputs": [
        {
          "output_type": "display_data",
          "data": {
            "image/png": "[encoded data removed]",
            "text/plain": [
              "<Figure size 1296x360 with 1 Axes>"
            ]
          },
          "metadata": {
            "tags": [],
            "needs_background": "light"
          }
        }
      ]
    },
    {
      "cell_type": "markdown",
      "metadata": {
        "id": "5fPjDthqTHOS",
        "colab_type": "text"
      },
      "source": [
        "Perform k-means clustering with k = 2 and show that you can learn (most of) the Senators’ parties in a completely unsupervised manner."
      ]
    },
    {
      "cell_type": "code",
      "metadata": {
        "id": "NzVppwDzTNvB",
        "colab_type": "code",
        "outputId": "300ef670-eb7a-44f5-ba8f-5e3b0e74053e",
        "colab": {
          "base_uri": "https://localhost:8080/",
          "height": 69
        }
      },
      "source": [
        "from sklearn.cluster import KMeans\n",
        "kmeans = KMeans(2)\n",
        "labels = kmeans.fit(X).predict(X)\n",
        "print(labels)"
      ],
      "execution_count": 0,
      "outputs": [
        {
          "output_type": "stream",
          "text": [
            "[0 1 1 1 1 1 1 0 1 0 1 0 1 0 0 0 1 1 0 1 1 0 1 0 1 1 0 0 0 1 1 1 0 0 1 1 0\n",
            " 0 0 0 1 0 0 1 1 0 0 0 0 0 1 1 0 0 1 1 0 0 1 0 0 1 1 1 1 1 0 0 0 0 0 0 0 0\n",
            " 0 1 1 1 0 0 0 1 0 0 1 0 1 1 1 0 0 0 0 0 1 1 1 0 0 0]\n"
          ],
          "name": "stdout"
        }
      ]
    },
    {
      "cell_type": "code",
      "metadata": {
        "id": "Gwi_nuIWbTLu",
        "colab_type": "code",
        "outputId": "dc62e986-3714-4a97-8f48-6d114029bc59",
        "colab": {
          "base_uri": "https://localhost:8080/",
          "height": 122
        }
      },
      "source": [
        "af_kmeans = []\n",
        "mislabel = []\n",
        "yellowbabels = []\n",
        "for i in range(100):\n",
        "  if labels[i] == 1:\n",
        "    af_kmeans.append('Blue')\n",
        "  elif labels[i] == 0:\n",
        "    af_kmeans.append('Red')\n",
        "  if af_kmeans[i] != affiliations[i]:\n",
        "    mislabel.append(i) \n",
        "  if affiliations[i] == 'Yellow':\n",
        "    yellowbabels.append(i)   \n",
        "print(\"Senators who are mis labelled: \",mislabel)\n",
        "print(\"Among them, these(Yellow) are neither of each label: \",yellowbabels)\n",
        "for i in mislabel:\n",
        "  print(af.values[i][0])"
      ],
      "execution_count": 0,
      "outputs": [
        {
          "output_type": "stream",
          "text": [
            "Senators who are mis labelled:  [21, 34, 58, 62]\n",
            "Among them, these(Yellow) are neither of each label:  [34, 62]\n",
            "Nelson Blue\n",
            "Jeffords Yellow\n",
            "Chafee Red\n",
            "Dayton Yellow\n"
          ],
          "name": "stdout"
        }
      ]
    },
    {
      "cell_type": "code",
      "metadata": {
        "id": "wJ-6QrTTWG2f",
        "colab_type": "code",
        "outputId": "b02f3b27-8821-4c87-abf4-06fb04af85c7",
        "colab": {
          "base_uri": "https://localhost:8080/",
          "height": 320
        }
      },
      "source": [
        "plt.figure(figsize=(18,5))\n",
        "plt.scatter(senator_num, np.zeros_like(senator_num), c=af_kmeans, s=40, cmap='viridis');\n",
        "plt.plot(mislabel,np.zeros_like(mislabel),'cs',label='mislabeled')\n",
        "plt.plot(yellowbabels,np.zeros_like(yellowbabels),'ys',label='mislabeled from yellow')\n",
        "plt.legend()\n",
        "plt.show()\n"
      ],
      "execution_count": 0,
      "outputs": [
        {
          "output_type": "display_data",
          "data": {
            "image/png": "[encoded data removed]",
            "text/plain": [
              "<Figure size 1296x360 with 1 Axes>"
            ]
          },
          "metadata": {
            "tags": [],
            "needs_background": "light"
          }
        }
      ]
    },
    {
      "cell_type": "markdown",
      "metadata": {
        "id": "8_EsVLW3bcxZ",
        "colab_type": "text"
      },
      "source": [
        "Which Senators did your algorithm make a mistake on, and why?\n",
        "\n",
        "There are two senator originally labelled with 'Yellow', these must be wrong due to only two clusters.\n",
        "\n",
        "And there are many potential drawbacks of kmeans leading to rest two senators mislabelled: maybe these two are on the boundary of two clusters and they are easily mislabeled, maybe distribution is not spherical."
      ]
    },
    {
      "cell_type": "markdown",
      "metadata": {
        "id": "LuSwgBFekSpR",
        "colab_type": "text"
      },
      "source": [
        "Try PCA dimension deduction on this dataset and visualize"
      ]
    },
    {
      "cell_type": "code",
      "metadata": {
        "id": "n2Oc7pvkg4c2",
        "colab_type": "code",
        "outputId": "306040b4-23ac-4a1a-b870-c903a3eb46da",
        "colab": {
          "base_uri": "https://localhost:8080/",
          "height": 374
        }
      },
      "source": [
        "from sklearn.decomposition import PCA\n",
        "X_mean = np.mean(X, axis = 0)\n",
        "X_zc = X - X_mean\n",
        "pca = PCA(n_components=2)\n",
        "pca.fit(X_zc)\n",
        "e_vectors = pca.components_ # get eignvectors\n",
        "#print('eignvectors:')\n",
        "#print(e_vectors)\n",
        "scores = np.matmul(X_zc,e_vectors.T)\n",
        "#print(scores)\n",
        "plt.figure(figsize=(6,6))\n",
        "plt.scatter(scores[:,0], scores[:,1], c=affiliations, s=40, cmap='viridis');\n",
        "# plt.plot(scores[21][0],scores[21][1],'cs')\n",
        "# plt.plot(scores[58][0],scores[58][1],'cs')\n",
        "# plt.plot(scores[34][0],scores[34][1],'ys')\n",
        "# plt.plot(scores[63][0],scores[62][1],'ys')"
      ],
      "execution_count": 0,
      "outputs": [
        {
          "output_type": "display_data",
          "data": {
            "image/png": "[encoded data removed]",
            "text/plain": [
              "<Figure size 432x432 with 1 Axes>"
            ]
          },
          "metadata": {
            "tags": [],
            "needs_background": "light"
          }
        }
      ]
    },
    {
      "cell_type": "markdown",
      "metadata": {
        "id": "w0M0JeRyq80Y",
        "colab_type": "text"
      },
      "source": [
        "**Question 4**"
      ]
    },
    {
      "cell_type": "markdown",
      "metadata": {
        "id": "LayK5ISrXsHH",
        "colab_type": "text"
      },
      "source": [
        "**a.** Load the data and construct a table with 9 columns containing the numerical ratings.\n",
        "\n",
        "import data"
      ]
    },
    {
      "cell_type": "code",
      "metadata": {
        "id": "L6cz8JJsq_Ld",
        "colab_type": "code",
        "colab": {}
      },
      "source": [
        "import pandas as pd\n",
        "\n",
        "Ratings =  pd.read_csv('places.csv',error_bad_lines=False)"
      ],
      "execution_count": 0,
      "outputs": []
    },
    {
      "cell_type": "code",
      "metadata": {
        "id": "tkVeY05ZsPwk",
        "colab_type": "code",
        "outputId": "10031c27-90f3-4bfa-9a0b-92a2ec843223",
        "colab": {
          "base_uri": "https://localhost:8080/",
          "height": 199
        }
      },
      "source": [
        "Ratings.head()"
      ],
      "execution_count": 4,
      "outputs": [
        {
          "output_type": "execute_result",
          "data": {
            "text/html": [
              "<div>\n",
              "<style scoped>\n",
              "    .dataframe tbody tr th:only-of-type {\n",
              "        vertical-align: middle;\n",
              "    }\n",
              "\n",
              "    .dataframe tbody tr th {\n",
              "        vertical-align: top;\n",
              "    }\n",
              "\n",
              "    .dataframe thead th {\n",
              "        text-align: right;\n",
              "    }\n",
              "</style>\n",
              "<table border=\"1\" class=\"dataframe\">\n",
              "  <thead>\n",
              "    <tr style=\"text-align: right;\">\n",
              "      <th></th>\n",
              "      <th>Place</th>\n",
              "      <th>Climate_and_Terrain</th>\n",
              "      <th>Housing</th>\n",
              "      <th>Health_Care_and_Environment</th>\n",
              "      <th>Crime</th>\n",
              "      <th>Transportation</th>\n",
              "      <th>Education</th>\n",
              "      <th>The_Arts</th>\n",
              "      <th>Recreation</th>\n",
              "      <th>Economics</th>\n",
              "    </tr>\n",
              "  </thead>\n",
              "  <tbody>\n",
              "    <tr>\n",
              "      <th>0</th>\n",
              "      <td>Abilene_TX</td>\n",
              "      <td>521</td>\n",
              "      <td>6200</td>\n",
              "      <td>237</td>\n",
              "      <td>923</td>\n",
              "      <td>4031</td>\n",
              "      <td>2757</td>\n",
              "      <td>996</td>\n",
              "      <td>1405</td>\n",
              "      <td>7633</td>\n",
              "    </tr>\n",
              "    <tr>\n",
              "      <th>1</th>\n",
              "      <td>Akron_OH</td>\n",
              "      <td>575</td>\n",
              "      <td>8138</td>\n",
              "      <td>1656</td>\n",
              "      <td>886</td>\n",
              "      <td>4883</td>\n",
              "      <td>2438</td>\n",
              "      <td>5564</td>\n",
              "      <td>2632</td>\n",
              "      <td>4350</td>\n",
              "    </tr>\n",
              "    <tr>\n",
              "      <th>2</th>\n",
              "      <td>Albany_GA</td>\n",
              "      <td>468</td>\n",
              "      <td>7339</td>\n",
              "      <td>618</td>\n",
              "      <td>970</td>\n",
              "      <td>2531</td>\n",
              "      <td>2560</td>\n",
              "      <td>237</td>\n",
              "      <td>859</td>\n",
              "      <td>5250</td>\n",
              "    </tr>\n",
              "    <tr>\n",
              "      <th>3</th>\n",
              "      <td>Albany-Schenectady-Troy_NY</td>\n",
              "      <td>476</td>\n",
              "      <td>7908</td>\n",
              "      <td>1431</td>\n",
              "      <td>610</td>\n",
              "      <td>6883</td>\n",
              "      <td>3399</td>\n",
              "      <td>4655</td>\n",
              "      <td>1617</td>\n",
              "      <td>5864</td>\n",
              "    </tr>\n",
              "    <tr>\n",
              "      <th>4</th>\n",
              "      <td>Albuquerque_NM</td>\n",
              "      <td>659</td>\n",
              "      <td>8393</td>\n",
              "      <td>1853</td>\n",
              "      <td>1483</td>\n",
              "      <td>6558</td>\n",
              "      <td>3026</td>\n",
              "      <td>4496</td>\n",
              "      <td>2612</td>\n",
              "      <td>5727</td>\n",
              "    </tr>\n",
              "  </tbody>\n",
              "</table>\n",
              "</div>"
            ],
            "text/plain": [
              "                        Place  Climate_and_Terrain  ...  Recreation  Economics\n",
              "0                  Abilene_TX                  521  ...        1405       7633\n",
              "1                    Akron_OH                  575  ...        2632       4350\n",
              "2                   Albany_GA                  468  ...         859       5250\n",
              "3  Albany-Schenectady-Troy_NY                  476  ...        1617       5864\n",
              "4              Albuquerque_NM                  659  ...        2612       5727\n",
              "\n",
              "[5 rows x 10 columns]"
            ]
          },
          "metadata": {
            "tags": []
          },
          "execution_count": 4
        }
      ]
    },
    {
      "cell_type": "markdown",
      "metadata": {
        "id": "AvuQmYU3OSiw",
        "colab_type": "text"
      },
      "source": [
        "Extract places and ratings"
      ]
    },
    {
      "cell_type": "code",
      "metadata": {
        "id": "763v-kDQD3j3",
        "colab_type": "code",
        "outputId": "415dcdb8-d400-4ebc-a037-d4103ef80bc5",
        "colab": {
          "base_uri": "https://localhost:8080/",
          "height": 87
        }
      },
      "source": [
        "import numpy as np\n",
        "\n",
        "place = np.array(Ratings.values[:,0])\n",
        "print(place[0])\n",
        "print(place.shape)\n",
        "\n",
        "ratings = np.array(Ratings.values[:,1:],dtype='float64')\n",
        "print(ratings[0,:])\n",
        "print(ratings.shape)"
      ],
      "execution_count": 5,
      "outputs": [
        {
          "output_type": "stream",
          "text": [
            "Abilene_TX\n",
            "(329,)\n",
            "[ 521. 6200.  237.  923. 4031. 2757.  996. 1405. 7633.]\n",
            "(329, 9)\n"
          ],
          "name": "stdout"
        }
      ]
    },
    {
      "cell_type": "markdown",
      "metadata": {
        "id": "Gkd1kYG_Yg1X",
        "colab_type": "text"
      },
      "source": [
        "**b.** Replace each value in the matrix by its base-10 logarithm. (This pre-processing is done\n",
        "for convenience since the numerical range of the ratings is large.)"
      ]
    },
    {
      "cell_type": "code",
      "metadata": {
        "id": "5plB8skjZEMf",
        "colab_type": "code",
        "outputId": "b376fad0-2852-4f52-ec3f-30c8be457d39",
        "colab": {
          "base_uri": "https://localhost:8080/",
          "height": 69
        }
      },
      "source": [
        "ratings_original = ratings\n",
        "ratings = np.log10(ratings)\n",
        "print(ratings[0,:])\n",
        "print(ratings.shape)"
      ],
      "execution_count": 6,
      "outputs": [
        {
          "output_type": "stream",
          "text": [
            "[2.71683772 3.79239169 2.37474835 2.9652017  3.6054128  3.44043677\n",
            " 2.99825934 3.14767632 3.88269526]\n",
            "(329, 9)\n"
          ],
          "name": "stdout"
        }
      ]
    },
    {
      "cell_type": "markdown",
      "metadata": {
        "id": "A7GvuKfkaqrv",
        "colab_type": "text"
      },
      "source": [
        "**c.** Perform PCA on the data. Remember to center the data points first by computing the\n",
        "mean data vector  and subtracting it from every point. With the centered data matrix, do\n",
        "an SVD and compute the principal components."
      ]
    },
    {
      "cell_type": "code",
      "metadata": {
        "id": "7mBp2_FDarnC",
        "colab_type": "code",
        "colab": {}
      },
      "source": [
        "from sklearn.decomposition import PCA\n",
        "\n",
        "X = ratings\n",
        "X_mean = np.mean(X, axis = 0)\n",
        "X_zc = X - X_mean\n",
        "pca = PCA(n_components=2)\n",
        "pca.fit(X_zc)\n",
        "e_vectors = pca.components_ # get eignvectors"
      ],
      "execution_count": 0,
      "outputs": []
    },
    {
      "cell_type": "markdown",
      "metadata": {
        "id": "F3_0XTdqj0g-",
        "colab_type": "text"
      },
      "source": [
        "**d.** Write down the first two principal components v1 and v2. Provide a qualitative interpretation\n",
        "of the components. Which among the nine factors do they appear to correlate the\n",
        "most with?"
      ]
    },
    {
      "cell_type": "code",
      "metadata": {
        "id": "Y-SEwZ8mlOcY",
        "colab_type": "code",
        "outputId": "fef8d65f-23db-408a-ef39-518d561c747e",
        "colab": {
          "base_uri": "https://localhost:8080/",
          "height": 104
        }
      },
      "source": [
        "print('eignvectors:')\n",
        "print(e_vectors)"
      ],
      "execution_count": 8,
      "outputs": [
        {
          "output_type": "stream",
          "text": [
            "eignvectors:\n",
            "[[ 0.03507288  0.09335159  0.40776448  0.10044536  0.15009714  0.03215319\n",
            "   0.87434057  0.15899622  0.01949418]\n",
            " [ 0.0088782   0.00923057 -0.85853187  0.22042372  0.05920111 -0.06058858\n",
            "   0.30380632  0.33399255  0.0561011 ]]\n"
          ],
          "name": "stdout"
        }
      ]
    },
    {
      "cell_type": "markdown",
      "metadata": {
        "id": "Jm9IO_Galbc7",
        "colab_type": "text"
      },
      "source": [
        "principal components(eigenvectors) are shown above, these vectors point the directions datas vary the most.\n",
        "\n",
        "For first component, 3rd and 7th factors contribute more for it, we can say they are correlated, also we can see 7th factor is much larger than rest, it is dominant, in fact, we could state that based on the correlation of 0.87434057 that this principal component is primarily a measure of the Arts. 3rd factor is Health_Care_and_Environment, 7th factor is The_Arts.\n",
        "\n",
        "For second component, 3rd factor contributes the most for it. It seems 3rd factor dominate the vector and have small correaltion with other unimportant factors because -0.85853187 is much larger than others. 3rd factor is Health_Care_and_Environment. "
      ]
    },
    {
      "cell_type": "markdown",
      "metadata": {
        "id": "qRJ8bo95mQfB",
        "colab_type": "text"
      },
      "source": [
        "**e.** Project the data points onto the first two principal components. (That is, compute the\n",
        "highest 2 scores of each of the data points.) Plot the scores as a 2D scatter plot. Which\n",
        "cities correspond to outliers in this scatter plot?"
      ]
    },
    {
      "cell_type": "code",
      "metadata": {
        "id": "4hIidssQmRnb",
        "colab_type": "code",
        "outputId": "30c9f63b-bdef-4d40-d4f6-c853b8734f90",
        "colab": {
          "base_uri": "https://localhost:8080/",
          "height": 401
        }
      },
      "source": [
        "import matplotlib.pyplot as plt\n",
        "scores = np.matmul(X_zc,e_vectors.T)\n",
        "s_mean = np.mean(scores,axis=0)\n",
        "s_std = np.std(scores,axis=0)\n",
        "outliers = []\n",
        "for i in range(scores.shape[0]):\n",
        "  if (scores[i][0] > s_mean[0]+3*s_std[0] or scores[i][0] < s_mean[0]-3*s_std[0]) or (scores[i][1] > s_mean[1]+3*s_std[1] or scores[i][1] < s_mean[1]-3*s_std[1]):\n",
        "    outliers.append(i)   \n",
        "plt.figure(figsize=(6.5,6.5))\n",
        "plt.scatter(scores[:,0],scores[:,1],c='b')\n",
        "for i in outliers:\n",
        "  plt.plot(scores[i][0],scores[i][1],'ro')"
      ],
      "execution_count": 12,
      "outputs": [
        {
          "output_type": "display_data",
          "data": {
            "image/png": "[encoded data removed]",
            "text/plain": [
              "<Figure size 468x468 with 1 Axes>"
            ]
          },
          "metadata": {
            "tags": [],
            "needs_background": "light"
          }
        }
      ]
    },
    {
      "cell_type": "markdown",
      "metadata": {
        "id": "fbp8A1TGYtfk",
        "colab_type": "text"
      },
      "source": [
        "Print outliers:"
      ]
    },
    {
      "cell_type": "code",
      "metadata": {
        "id": "w8K2lgXAYtBC",
        "colab_type": "code",
        "outputId": "59aec89d-38fd-4e5d-9001-5a30d722216b",
        "colab": {
          "base_uri": "https://localhost:8080/",
          "height": 69
        }
      },
      "source": [
        "for i in outliers:\n",
        "  print(place[i])"
      ],
      "execution_count": 13,
      "outputs": [
        {
          "output_type": "stream",
          "text": [
            "Glens_Falls_NY\n",
            "Midland_TX\n",
            "New_York_NY\n"
          ],
          "name": "stdout"
        }
      ]
    },
    {
      "cell_type": "markdown",
      "metadata": {
        "id": "vE3hBr49sirG",
        "colab_type": "text"
      },
      "source": [
        "**f.** Repeat Steps 2-5, but with a slightly different data matrix – instead of computing the\n",
        "base-10 logarithm, use the z-scores. (The z-score is calculated by computing the mean u\n",
        "and standard deviation d for each feature, and normalizing each entry x by (x-u)/d ). How\n",
        "do your answers change?"
      ]
    },
    {
      "cell_type": "markdown",
      "metadata": {
        "id": "2u93s9Xd56cA",
        "colab_type": "text"
      },
      "source": [
        "(1) compute z"
      ]
    },
    {
      "cell_type": "code",
      "metadata": {
        "id": "yxBhtDxxsxLE",
        "colab_type": "code",
        "outputId": "173bf192-e9cf-461a-b5c3-6fc8c1aa7869",
        "colab": {
          "base_uri": "https://localhost:8080/",
          "height": 157
        }
      },
      "source": [
        "np.set_printoptions(precision=4,suppress=True,floatmode = 'fixed')\n",
        "r_mean = np.mean(ratings_original,axis=0)\n",
        "r_std = np.std(ratings_original,axis=0)\n",
        "z = ratings_original\n",
        "print(ratings_original.shape)\n",
        "for i in range(329):\n",
        "  for j in range(9):\n",
        "    z[i][j] = (z[i][j] - r_mean[j]) / r_std[j]\n",
        "print(z)"
      ],
      "execution_count": 15,
      "outputs": [
        {
          "output_type": "stream",
          "text": [
            "(329, 9)\n",
            "[[-0.1470 -0.9013 -0.9473 ... -0.4649 -0.5466  1.9464]\n",
            " [ 0.3007 -0.0876  0.4696 ...  0.5206  0.9744 -1.0855]\n",
            " [-0.5864 -0.4231 -0.5669 ... -0.6286 -1.2235 -0.2543]\n",
            " ...\n",
            " [ 0.0105  0.0103 -0.4720 ... -0.4593 -1.2446 -0.5351]\n",
            " [ 0.2592 -0.5566 -0.0886 ... -0.0763 -0.6433 -1.5066]\n",
            " [ 0.5742 -0.1980 -0.9723 ... -0.6534 -1.1504 -0.7678]]\n"
          ],
          "name": "stdout"
        }
      ]
    },
    {
      "cell_type": "markdown",
      "metadata": {
        "id": "QqiRRlCR5-1G",
        "colab_type": "text"
      },
      "source": [
        "data points are already centered "
      ]
    },
    {
      "cell_type": "markdown",
      "metadata": {
        "id": "-DQgIj7sCgHK",
        "colab_type": "text"
      },
      "source": [
        "(2) Write down the first two principal components v1 and v2. Provide a qualitative interpretation\n",
        "of the components."
      ]
    },
    {
      "cell_type": "code",
      "metadata": {
        "id": "waoabPtlBZA5",
        "colab_type": "code",
        "outputId": "dab21d6a-e4a3-4c5d-e743-a2654eae6bda",
        "colab": {
          "base_uri": "https://localhost:8080/",
          "height": 69
        }
      },
      "source": [
        "from sklearn.decomposition import PCA\n",
        "\n",
        "pca = PCA(n_components=2)\n",
        "pca.fit(z)\n",
        "e_vectors = pca.components_ # get eignvectors\n",
        "print('eignvectors:')\n",
        "print(e_vectors)"
      ],
      "execution_count": 16,
      "outputs": [
        {
          "output_type": "stream",
          "text": [
            "eignvectors:\n",
            "[[ 0.2064  0.3565  0.4602  0.2813  0.3512  0.2753  0.4631  0.3279  0.1354]\n",
            " [ 0.2178  0.2506 -0.2995  0.3553 -0.1796 -0.4834 -0.1948  0.3845  0.4713]]\n"
          ],
          "name": "stdout"
        }
      ]
    },
    {
      "cell_type": "markdown",
      "metadata": {
        "id": "YWb_Li8VIKGh",
        "colab_type": "text"
      },
      "source": [
        "Principal components(eigenvectors) are shown above, these vectors point the direction data varies the most.\n",
        "\n",
        "For first component, factor values are small and close to each others, we can relatively see that 3rd and 7th factors contribute more for it, we can say they are correlated. 3rd factor is Health Care and Environment, 7th factor is The Arts.\n",
        "\n",
        "For second component, factor values are small and close to each others, we can relatively see that 6th and 9th factors contribute more for it, we can say they are correlated. 6th factor is Education, 9th factor is Economics."
      ]
    },
    {
      "cell_type": "markdown",
      "metadata": {
        "id": "GZ7I-wmUIrjK",
        "colab_type": "text"
      },
      "source": [
        "(3) Project the data points onto the first two principal components. (That is, compute the\n",
        "highest 2 scores of each of the data points.) Plot the scores as a 2D scatter plot. Which\n",
        "cities correspond to outliers in this scatter plot?"
      ]
    },
    {
      "cell_type": "code",
      "metadata": {
        "id": "A4Go3HsEIl3h",
        "colab_type": "code",
        "outputId": "75742cee-df23-4ea9-b432-5983fedcb897",
        "colab": {
          "base_uri": "https://localhost:8080/",
          "height": 418
        }
      },
      "source": [
        "import matplotlib.pyplot as plt\n",
        "scores = np.matmul(z,e_vectors.T)\n",
        "s_mean = np.mean(scores,axis=0)\n",
        "s_std = np.std(scores,axis=0)\n",
        "outliers = []\n",
        "for i in range(scores.shape[0]):\n",
        "  if (scores[i][0] > s_mean[0]+3*s_std[0] or scores[i][0] < s_mean[0]-3*s_std[0]) or (scores[i][1] > s_mean[1]+3*s_std[1] or scores[i][1] < s_mean[1]-3*s_std[1]):\n",
        "    outliers.append(i)\n",
        "print(outliers)    \n",
        "plt.figure(figsize=(6.5,6.5))\n",
        "plt.scatter(scores[:,0],scores[:,1],c='b')\n",
        "for i in outliers:\n",
        "  plt.plot(scores[i][0],scores[i][1],'ro')"
      ],
      "execution_count": 17,
      "outputs": [
        {
          "output_type": "stream",
          "text": [
            "[42, 64, 167, 178, 212, 269, 313]\n"
          ],
          "name": "stdout"
        },
        {
          "output_type": "display_data",
          "data": {
            "image/png": "[encoded data removed]",
            "text/plain": [
              "<Figure size 468x468 with 1 Axes>"
            ]
          },
          "metadata": {
            "tags": [],
            "needs_background": "light"
          }
        }
      ]
    },
    {
      "cell_type": "markdown",
      "metadata": {
        "id": "c5JbotXmZISA",
        "colab_type": "text"
      },
      "source": [
        "Print outliers"
      ]
    },
    {
      "cell_type": "code",
      "metadata": {
        "id": "_NLjKgjdZHXE",
        "colab_type": "code",
        "outputId": "c3dcea85-34e6-4609-f709-85852dce75b1",
        "colab": {
          "base_uri": "https://localhost:8080/",
          "height": 139
        }
      },
      "source": [
        "for i in outliers:\n",
        "  print(place[i])"
      ],
      "execution_count": 0,
      "outputs": [
        {
          "output_type": "stream",
          "text": [
            "Boston_MA\n",
            "Chicago_IL\n",
            "Las_Vegas_NV\n",
            "Los_Angeles_Long_Beach_CA\n",
            "New_York_NY\n",
            "San_Francisco_CA\n",
            "Washington_DC-MD-VA\n"
          ],
          "name": "stdout"
        }
      ]
    }
  ]
}
{
  "nbformat": 4,
  "nbformat_minor": 0,
  "metadata": {
    "colab": {
      "name": "hw3.ipynb",
      "provenance": [],
      "collapsed_sections": []
    },
    "kernelspec": {
      "name": "python3",
      "display_name": "Python 3"
    }
  },
  "cells": [
    {
      "cell_type": "markdown",
      "metadata": {
        "id": "-I1Tb21Eow8K",
        "colab_type": "text"
      },
      "source": [
        "# **Question 2:**\n",
        "\n",
        "**(1)**load dataset\n"
      ]
    },
    {
      "cell_type": "code",
      "metadata": {
        "id": "Z3pDKzB8m2OF",
        "colab_type": "code",
        "outputId": "f5eea87d-285a-4322-8427-068c6bc6c179",
        "colab": {
          "base_uri": "https://localhost:8080/",
          "height": 199
        }
      },
      "source": [
        "import pandas as pd\n",
        "import numpy as np\n",
        "from sklearn.datasets import load_boston\n",
        "boston_dataset = load_boston()\n",
        "boston = pd.DataFrame(boston_dataset.data,\n",
        "columns=boston_dataset.feature_names)\n",
        "boston['MEDV'] = boston_dataset.target\n",
        "boston.head()"
      ],
      "execution_count": 1,
      "outputs": [
        {
          "output_type": "execute_result",
          "data": {
            "text/html": [
              "<div>\n",
              "<style scoped>\n",
              "    .dataframe tbody tr th:only-of-type {\n",
              "        vertical-align: middle;\n",
              "    }\n",
              "\n",
              "    .dataframe tbody tr th {\n",
              "        vertical-align: top;\n",
              "    }\n",
              "\n",
              "    .dataframe thead th {\n",
              "        text-align: right;\n",
              "    }\n",
              "</style>\n",
              "<table border=\"1\" class=\"dataframe\">\n",
              "  <thead>\n",
              "    <tr style=\"text-align: right;\">\n",
              "      <th></th>\n",
              "      <th>CRIM</th>\n",
              "      <th>ZN</th>\n",
              "      <th>INDUS</th>\n",
              "      <th>CHAS</th>\n",
              "      <th>NOX</th>\n",
              "      <th>RM</th>\n",
              "      <th>AGE</th>\n",
              "      <th>DIS</th>\n",
              "      <th>RAD</th>\n",
              "      <th>TAX</th>\n",
              "      <th>PTRATIO</th>\n",
              "      <th>B</th>\n",
              "      <th>LSTAT</th>\n",
              "      <th>MEDV</th>\n",
              "    </tr>\n",
              "  </thead>\n",
              "  <tbody>\n",
              "    <tr>\n",
              "      <th>0</th>\n",
              "      <td>0.00632</td>\n",
              "      <td>18.0</td>\n",
              "      <td>2.31</td>\n",
              "      <td>0.0</td>\n",
              "      <td>0.538</td>\n",
              "      <td>6.575</td>\n",
              "      <td>65.2</td>\n",
              "      <td>4.0900</td>\n",
              "      <td>1.0</td>\n",
              "      <td>296.0</td>\n",
              "      <td>15.3</td>\n",
              "      <td>396.90</td>\n",
              "      <td>4.98</td>\n",
              "      <td>24.0</td>\n",
              "    </tr>\n",
              "    <tr>\n",
              "      <th>1</th>\n",
              "      <td>0.02731</td>\n",
              "      <td>0.0</td>\n",
              "      <td>7.07</td>\n",
              "      <td>0.0</td>\n",
              "      <td>0.469</td>\n",
              "      <td>6.421</td>\n",
              "      <td>78.9</td>\n",
              "      <td>4.9671</td>\n",
              "      <td>2.0</td>\n",
              "      <td>242.0</td>\n",
              "      <td>17.8</td>\n",
              "      <td>396.90</td>\n",
              "      <td>9.14</td>\n",
              "      <td>21.6</td>\n",
              "    </tr>\n",
              "    <tr>\n",
              "      <th>2</th>\n",
              "      <td>0.02729</td>\n",
              "      <td>0.0</td>\n",
              "      <td>7.07</td>\n",
              "      <td>0.0</td>\n",
              "      <td>0.469</td>\n",
              "      <td>7.185</td>\n",
              "      <td>61.1</td>\n",
              "      <td>4.9671</td>\n",
              "      <td>2.0</td>\n",
              "      <td>242.0</td>\n",
              "      <td>17.8</td>\n",
              "      <td>392.83</td>\n",
              "      <td>4.03</td>\n",
              "      <td>34.7</td>\n",
              "    </tr>\n",
              "    <tr>\n",
              "      <th>3</th>\n",
              "      <td>0.03237</td>\n",
              "      <td>0.0</td>\n",
              "      <td>2.18</td>\n",
              "      <td>0.0</td>\n",
              "      <td>0.458</td>\n",
              "      <td>6.998</td>\n",
              "      <td>45.8</td>\n",
              "      <td>6.0622</td>\n",
              "      <td>3.0</td>\n",
              "      <td>222.0</td>\n",
              "      <td>18.7</td>\n",
              "      <td>394.63</td>\n",
              "      <td>2.94</td>\n",
              "      <td>33.4</td>\n",
              "    </tr>\n",
              "    <tr>\n",
              "      <th>4</th>\n",
              "      <td>0.06905</td>\n",
              "      <td>0.0</td>\n",
              "      <td>2.18</td>\n",
              "      <td>0.0</td>\n",
              "      <td>0.458</td>\n",
              "      <td>7.147</td>\n",
              "      <td>54.2</td>\n",
              "      <td>6.0622</td>\n",
              "      <td>3.0</td>\n",
              "      <td>222.0</td>\n",
              "      <td>18.7</td>\n",
              "      <td>396.90</td>\n",
              "      <td>5.33</td>\n",
              "      <td>36.2</td>\n",
              "    </tr>\n",
              "  </tbody>\n",
              "</table>\n",
              "</div>"
            ],
            "text/plain": [
              "      CRIM    ZN  INDUS  CHAS    NOX  ...    TAX  PTRATIO       B  LSTAT  MEDV\n",
              "0  0.00632  18.0   2.31   0.0  0.538  ...  296.0     15.3  396.90   4.98  24.0\n",
              "1  0.02731   0.0   7.07   0.0  0.469  ...  242.0     17.8  396.90   9.14  21.6\n",
              "2  0.02729   0.0   7.07   0.0  0.469  ...  242.0     17.8  392.83   4.03  34.7\n",
              "3  0.03237   0.0   2.18   0.0  0.458  ...  222.0     18.7  394.63   2.94  33.4\n",
              "4  0.06905   0.0   2.18   0.0  0.458  ...  222.0     18.7  396.90   5.33  36.2\n",
              "\n",
              "[5 rows x 14 columns]"
            ]
          },
          "metadata": {
            "tags": []
          },
          "execution_count": 1
        }
      ]
    },
    {
      "cell_type": "markdown",
      "metadata": {
        "id": "BmqTPNJwowEl",
        "colab_type": "text"
      },
      "source": [
        "**(2)**Preprocess"
      ]
    },
    {
      "cell_type": "code",
      "metadata": {
        "id": "EHZD47mzpcil",
        "colab_type": "code",
        "outputId": "4355c6c2-0fba-404e-aa9c-dbe5fa0c2053",
        "colab": {
          "base_uri": "https://localhost:8080/",
          "height": 199
        }
      },
      "source": [
        "import sklearn\n",
        "boston_dataset.target = boston_dataset.target.reshape(boston_dataset.target.shape[0],1)\n",
        "sklearn.preprocessing.normalize(boston_dataset.data, norm='max', axis=0, copy=False, return_norm=False)\n",
        "sklearn.preprocessing.normalize(boston_dataset.target, norm='max', axis=0, copy=False, return_norm=False)\n",
        "\n",
        "#print(boston_dataset.target)\n",
        "boston = pd.DataFrame(boston_dataset.data,\n",
        "columns=boston_dataset.feature_names)\n",
        "boston['MEDV'] = boston_dataset.target\n",
        "boston.head()"
      ],
      "execution_count": 2,
      "outputs": [
        {
          "output_type": "execute_result",
          "data": {
            "text/html": [
              "<div>\n",
              "<style scoped>\n",
              "    .dataframe tbody tr th:only-of-type {\n",
              "        vertical-align: middle;\n",
              "    }\n",
              "\n",
              "    .dataframe tbody tr th {\n",
              "        vertical-align: top;\n",
              "    }\n",
              "\n",
              "    .dataframe thead th {\n",
              "        text-align: right;\n",
              "    }\n",
              "</style>\n",
              "<table border=\"1\" class=\"dataframe\">\n",
              "  <thead>\n",
              "    <tr style=\"text-align: right;\">\n",
              "      <th></th>\n",
              "      <th>CRIM</th>\n",
              "      <th>ZN</th>\n",
              "      <th>INDUS</th>\n",
              "      <th>CHAS</th>\n",
              "      <th>NOX</th>\n",
              "      <th>RM</th>\n",
              "      <th>AGE</th>\n",
              "      <th>DIS</th>\n",
              "      <th>RAD</th>\n",
              "      <th>TAX</th>\n",
              "      <th>PTRATIO</th>\n",
              "      <th>B</th>\n",
              "      <th>LSTAT</th>\n",
              "      <th>MEDV</th>\n",
              "    </tr>\n",
              "  </thead>\n",
              "  <tbody>\n",
              "    <tr>\n",
              "      <th>0</th>\n",
              "      <td>0.000071</td>\n",
              "      <td>0.18</td>\n",
              "      <td>0.083273</td>\n",
              "      <td>0.0</td>\n",
              "      <td>0.617681</td>\n",
              "      <td>0.748861</td>\n",
              "      <td>0.652</td>\n",
              "      <td>0.337278</td>\n",
              "      <td>0.041667</td>\n",
              "      <td>0.416315</td>\n",
              "      <td>0.695455</td>\n",
              "      <td>1.000000</td>\n",
              "      <td>0.131156</td>\n",
              "      <td>0.480</td>\n",
              "    </tr>\n",
              "    <tr>\n",
              "      <th>1</th>\n",
              "      <td>0.000307</td>\n",
              "      <td>0.00</td>\n",
              "      <td>0.254867</td>\n",
              "      <td>0.0</td>\n",
              "      <td>0.538462</td>\n",
              "      <td>0.731321</td>\n",
              "      <td>0.789</td>\n",
              "      <td>0.409607</td>\n",
              "      <td>0.083333</td>\n",
              "      <td>0.340366</td>\n",
              "      <td>0.809091</td>\n",
              "      <td>1.000000</td>\n",
              "      <td>0.240716</td>\n",
              "      <td>0.432</td>\n",
              "    </tr>\n",
              "    <tr>\n",
              "      <th>2</th>\n",
              "      <td>0.000307</td>\n",
              "      <td>0.00</td>\n",
              "      <td>0.254867</td>\n",
              "      <td>0.0</td>\n",
              "      <td>0.538462</td>\n",
              "      <td>0.818337</td>\n",
              "      <td>0.611</td>\n",
              "      <td>0.409607</td>\n",
              "      <td>0.083333</td>\n",
              "      <td>0.340366</td>\n",
              "      <td>0.809091</td>\n",
              "      <td>0.989746</td>\n",
              "      <td>0.106136</td>\n",
              "      <td>0.694</td>\n",
              "    </tr>\n",
              "    <tr>\n",
              "      <th>3</th>\n",
              "      <td>0.000364</td>\n",
              "      <td>0.00</td>\n",
              "      <td>0.078587</td>\n",
              "      <td>0.0</td>\n",
              "      <td>0.525832</td>\n",
              "      <td>0.797039</td>\n",
              "      <td>0.458</td>\n",
              "      <td>0.499913</td>\n",
              "      <td>0.125000</td>\n",
              "      <td>0.312236</td>\n",
              "      <td>0.850000</td>\n",
              "      <td>0.994281</td>\n",
              "      <td>0.077430</td>\n",
              "      <td>0.668</td>\n",
              "    </tr>\n",
              "    <tr>\n",
              "      <th>4</th>\n",
              "      <td>0.000776</td>\n",
              "      <td>0.00</td>\n",
              "      <td>0.078587</td>\n",
              "      <td>0.0</td>\n",
              "      <td>0.525832</td>\n",
              "      <td>0.814009</td>\n",
              "      <td>0.542</td>\n",
              "      <td>0.499913</td>\n",
              "      <td>0.125000</td>\n",
              "      <td>0.312236</td>\n",
              "      <td>0.850000</td>\n",
              "      <td>1.000000</td>\n",
              "      <td>0.140374</td>\n",
              "      <td>0.724</td>\n",
              "    </tr>\n",
              "  </tbody>\n",
              "</table>\n",
              "</div>"
            ],
            "text/plain": [
              "       CRIM    ZN     INDUS  CHAS  ...   PTRATIO         B     LSTAT   MEDV\n",
              "0  0.000071  0.18  0.083273   0.0  ...  0.695455  1.000000  0.131156  0.480\n",
              "1  0.000307  0.00  0.254867   0.0  ...  0.809091  1.000000  0.240716  0.432\n",
              "2  0.000307  0.00  0.254867   0.0  ...  0.809091  0.989746  0.106136  0.694\n",
              "3  0.000364  0.00  0.078587   0.0  ...  0.850000  0.994281  0.077430  0.668\n",
              "4  0.000776  0.00  0.078587   0.0  ...  0.850000  1.000000  0.140374  0.724\n",
              "\n",
              "[5 rows x 14 columns]"
            ]
          },
          "metadata": {
            "tags": []
          },
          "execution_count": 2
        }
      ]
    },
    {
      "cell_type": "markdown",
      "metadata": {
        "id": "bwMSyOCxqkgp",
        "colab_type": "text"
      },
      "source": [
        "(3)put a test on train_test_split() to split dataset 80-20 train-test for one time."
      ]
    },
    {
      "cell_type": "code",
      "metadata": {
        "id": "8Ic32OtbqrU6",
        "colab_type": "code",
        "outputId": "47097666-f36a-4b2c-a9da-c97e27c5b3ad",
        "colab": {
          "base_uri": "https://localhost:8080/",
          "height": 122
        }
      },
      "source": [
        "from sklearn.model_selection import train_test_split\n",
        "X = boston_dataset.data\n",
        "y = boston_dataset.target\n",
        "\n",
        "print('Xshape: ', X.shape)\n",
        "print('yshape: ', y.shape)\n",
        "\n",
        "train_X, test_X, train_y, test_y = train_test_split(X, y, test_size=0.2, shuffle = True)\n",
        "print('train_Xshape: ', train_X.shape)\n",
        "print('train_yshape: ', train_y.shape)\n",
        "print('test_Xshape: ', test_X.shape)\n",
        "print('test_yshape: ', test_y.shape)"
      ],
      "execution_count": 3,
      "outputs": [
        {
          "output_type": "stream",
          "text": [
            "Xshape:  (506, 13)\n",
            "yshape:  (506, 1)\n",
            "train_Xshape:  (404, 13)\n",
            "train_yshape:  (404, 1)\n",
            "test_Xshape:  (102, 13)\n",
            "test_yshape:  (102, 1)\n"
          ],
          "name": "stdout"
        }
      ]
    },
    {
      "cell_type": "markdown",
      "metadata": {
        "id": "QRJ9WDhT09E3",
        "colab_type": "text"
      },
      "source": [
        "**(4)Because I am little bit confused about exactly required method to implement 10-fold, I made it by two ways as below:**"
      ]
    },
    {
      "cell_type": "markdown",
      "metadata": {
        "id": "EPc14oqpwmxZ",
        "colab_type": "text"
      },
      "source": [
        "**(4)(a)**do 10-Fold and ridge regression by repeating 10 times of splitting 80-20 train and test, each split will shuffle dataset"
      ]
    },
    {
      "cell_type": "code",
      "metadata": {
        "id": "eMhQo0Xl219h",
        "colab_type": "code",
        "colab": {
          "base_uri": "https://localhost:8080/",
          "height": 72
        },
        "outputId": "b1135236-8f62-462a-bcc7-1ac3a1c02541"
      },
      "source": [
        "from sklearn.model_selection import train_test_split\n",
        "from sklearn.model_selection import KFold\n",
        "from sklearn.linear_model import RidgeCV\n",
        "\n",
        "MAXRSQ = 0\n",
        "Rsq = []\n",
        "\n",
        "for iteration in range(10):\n",
        "  train_X, test_X, train_y, test_y = train_test_split(X, y, test_size=0.2, shuffle = True)\n",
        "  reg = RidgeCV(alphas=np.logspace(-6, 6, 13))\n",
        "  reg.fit(train_X, train_y)\n",
        "  #print(\"coef:\",reg.coef_)\n",
        "  #print(\"intercept:\",reg.intercept_)\n",
        "  R2 = reg.score(test_X, test_y, sample_weight=None)\n",
        "  Rsq.append(R2)\n",
        "  if Rsq[-1] > MAXRSQ:\n",
        "    MAXRSQ = Rsq[-1]\n",
        "print(\"R^2s: \",Rsq) \n",
        "print(\"max R^2: \",MAXRSQ )  "
      ],
      "execution_count": 4,
      "outputs": [
        {
          "output_type": "stream",
          "text": [
            "R^2s:  [0.6837327228847304, 0.7047967750266928, 0.7530466654207459, 0.7384331773752518, 0.7031074193275669, 0.6186253420040251, 0.7017469855969185, 0.7202389983969888, 0.7167646523380236, 0.7739848718307807]\n",
            "max R^2:  0.7739848718307807\n"
          ],
          "name": "stdout"
        }
      ]
    },
    {
      "cell_type": "markdown",
      "metadata": {
        "id": "s4QKRm3k0IcC",
        "colab_type": "text"
      },
      "source": [
        "**(4)(b)**do 10-Fold and ridge regression by performing KFold function from sklearn on 80% dataset (train set), and apply best model to 20% dataset ( test set) at last.\n",
        "\n",
        "      KFold divide train set into k equal parts and use one parts as test set each time and iterate k times , at last choose best model. "
      ]
    },
    {
      "cell_type": "code",
      "metadata": {
        "id": "Pjq7tkPwvtZD",
        "colab_type": "code",
        "outputId": "2a165266-942a-4308-a88f-a935519e2bc3",
        "colab": {
          "base_uri": "https://localhost:8080/",
          "height": 72
        }
      },
      "source": [
        "from sklearn.model_selection import KFold\n",
        "from sklearn.linear_model import RidgeCV\n",
        "\n",
        "kf = KFold(n_splits=10)\n",
        "kf.get_n_splits(train_X)\n",
        "MAXRSQ = 0\n",
        "Rsq = []\n",
        "\n",
        "for train_index, test_index in kf.split(train_X):\n",
        "  #print(\"TRAIN:\", train_index, \"TEST:\", test_index)\n",
        "  X_kftrain, X_kftest = train_X[train_index], train_X[test_index]\n",
        "  y_kftrain, y_kftest = train_y[train_index], train_y[test_index]\n",
        "  reg = RidgeCV(alphas=np.logspace(-6, 6, 13))\n",
        "  reg.fit(X_kftrain, y_kftrain)\n",
        "  #print(\"coef:\",reg.coef_)\n",
        "  #print(\"intercept:\",reg.intercept_)\n",
        "  R2 = reg.score(X_kftest, y_kftest, sample_weight=None)\n",
        "  Rsq.append(R2)\n",
        "  if Rsq[-1] > MAXRSQ:\n",
        "    REG = reg\n",
        "    MAXRSQ = Rsq[-1]\n",
        "print(\"R^2: \",Rsq) \n",
        "print(\"max R^2: \",MAXRSQ )  "
      ],
      "execution_count": 5,
      "outputs": [
        {
          "output_type": "stream",
          "text": [
            "R^2:  [0.823775621723068, 0.6375829846526994, 0.6658874977119492, 0.40333683901120754, 0.7032820980040273, 0.8482473462532901, 0.8396013728023393, 0.5896609039955862, 0.7762145978564324, 0.5757353115055683]\n",
            "max R^2:  0.8482473462532901\n"
          ],
          "name": "stdout"
        }
      ]
    },
    {
      "cell_type": "markdown",
      "metadata": {
        "id": "PeaqMlc1KOzx",
        "colab_type": "text"
      },
      "source": [
        "apply best model gained from 4(b) to test set and report R^2"
      ]
    },
    {
      "cell_type": "code",
      "metadata": {
        "id": "BL7Yq3nHKSkg",
        "colab_type": "code",
        "outputId": "b44f05c7-9e7c-4c6b-ebf0-514d2aa19220",
        "colab": {
          "base_uri": "https://localhost:8080/",
          "height": 34
        }
      },
      "source": [
        "R2 = REG.score(test_X, test_y, sample_weight=None)\n",
        "print('R^2 for test set: ',R2 )"
      ],
      "execution_count": 6,
      "outputs": [
        {
          "output_type": "stream",
          "text": [
            "R^2 for test set:  0.7668737733975907\n"
          ],
          "name": "stdout"
        }
      ]
    },
    {
      "cell_type": "markdown",
      "metadata": {
        "id": "GM1L25o2MoJL",
        "colab_type": "text"
      },
      "source": [
        "# **Question 4**\n",
        "\n",
        "# **(a)**"
      ]
    },
    {
      "cell_type": "code",
      "metadata": {
        "id": "4FR39hkTMr1U",
        "colab_type": "code",
        "outputId": "361e22c6-dd15-4333-864d-33d5e1776028",
        "colab": {
          "base_uri": "https://localhost:8080/",
          "height": 351
        }
      },
      "source": [
        "import numpy as np\n",
        "import matplotlib.pyplot as plt\n",
        "meanx1 = (0.6, 0.6)\n",
        "covx1 = [[0.05, 0], [0, 0.05]]\n",
        "x1 = np.random.multivariate_normal(meanx1, covx1, 100)\n",
        "meanx2 = (-0.5, -0.5)\n",
        "covx2 = [[0.06, 0], [0, 0.06]]\n",
        "x2 = np.random.multivariate_normal(meanx2, covx2, 100)\n",
        "print(\"x1.shape:\" ,x1.shape)\n",
        "print(\"x2.shape:\" ,x2.shape)\n",
        "plt.figure(1)\n",
        "plt.title(\"2D plane of two clusters of points\")\n",
        "plt.plot(x1[:,0],x1[:,1],'ro',label=\"y=1\")\n",
        "plt.plot(x2[:,0],x2[:,1],'bo',label=\"y=-1\")\n",
        "plt.legend()\n",
        "plt.grid()\n",
        "\n",
        "y1 = np.random.normal(loc=1.0, scale=0.0, size=100)\n",
        "y2 = np.random.normal(loc=-1.0, scale=0.0, size=100)\n",
        "y1 = y1.reshape(y1.shape[0],1)\n",
        "y2 = y2.reshape(y2.shape[0],1)\n",
        "print(\"y1.shape:\" ,y1.shape)\n",
        "print(\"y2.shape:\" ,y2.shape)"
      ],
      "execution_count": 26,
      "outputs": [
        {
          "output_type": "stream",
          "text": [
            "x1.shape: (100, 2)\n",
            "x2.shape: (100, 2)\n",
            "y1.shape: (100, 1)\n",
            "y2.shape: (100, 1)\n"
          ],
          "name": "stdout"
        },
        {
          "output_type": "display_data",
          "data": {
            "image/png": "[encoded data removed]",
            "text/plain": [
              "<Figure size 432x288 with 1 Axes>"
            ]
          },
          "metadata": {
            "tags": []
          }
        }
      ]
    },
    {
      "cell_type": "markdown",
      "metadata": {
        "id": "Jth2RJmofJcJ",
        "colab_type": "text"
      },
      "source": [
        "# **(b)because yi equals to 1 or -1, I solve this question by two methods as below:**"
      ]
    },
    {
      "cell_type": "markdown",
      "metadata": {
        "id": "m1-vic_5J6cc",
        "colab_type": "text"
      },
      "source": [
        "Method(1): According to what we learn, deduce a formula suits 1 & -1 situation\n",
        "\n",
        "Method(2): use formula for 1 and 0 as we learnt in class, preprocess all -1 to 0."
      ]
    },
    {
      "cell_type": "markdown",
      "metadata": {
        "id": "HOMOBGHH4NUJ",
        "colab_type": "text"
      },
      "source": [
        "define function for solving lgistic regression, it will shuffle dataset before iteration. It will stop iteration if it converges ( judge by loss funtion variation less than 0.1%. (this helps solving question (c)\n",
        "\n",
        "Set mode argument to 1 to use a formula for 1 & -1, set mode argument to 2 to use formula in class for 1 & 0"
      ]
    },
    {
      "cell_type": "code",
      "metadata": {
        "id": "J5AlvS-_gt8A",
        "colab_type": "code",
        "colab": {}
      },
      "source": [
        "def gradient_descent(X,y,learning_rate,epoch,mode):\n",
        "  import time\n",
        "  \n",
        "  #preoprocess: make all -1 to 0 if mode = 2\n",
        "  if mode == 2 :\n",
        "    print(\"GD Result when use 1 & 0 formula learnt in class:\")\n",
        "    for n in range(X.shape[0]):\n",
        "      if y[n] == -1 :\n",
        "        y[n] = 0\n",
        "  if mode == 1 :\n",
        "    print(\"GD Result when use 1 & -1 formula from my deduction:\")\n",
        "    for n in range(X.shape[0]):\n",
        "      if y[n] == 0 :\n",
        "        y[n] = -1\n",
        "\n",
        "  #preproess X and y: shuffle X,y pairs\n",
        "  #combine X & y, shuffle and then split\n",
        "  pairs = np.concatenate((X, y), axis=1)\n",
        "  #print(\"pairs.shape: \",pairs.shape,\"pairs:\")\n",
        "  np.random.shuffle(pairs)\n",
        "  #print(pairs)\n",
        "  X = pairs[:,0:pairs.shape[1]-1]\n",
        "  y = pairs[:,pairs.shape[1]-1:pairs.shape[1]]\n",
        "  #print(X)\n",
        "  #print(y)\n",
        "  \n",
        "  n = X.shape[0]\n",
        "  d = X.shape[1]\n",
        "  x0 = np.ones((n,1))\n",
        "  X = np.hstack((x0,X))# add a column of 1 to the left of x matching for w0\n",
        "  w = np.random.randn(d+1,1)\n",
        "  print(\"X.shape: \",X.shape,\" y.shape: \",y.shape,\" w.shape: \",w.shape)\n",
        "  \n",
        "  cost = []\n",
        "  gd = []\n",
        "  t0 = time.time()\n",
        "  for iteration in range(epoch):\n",
        "    Lw = 0\n",
        "    gradient = np.zeros((d+1,1))\n",
        "    for i in range(0,n):\n",
        "      Xi = X[i].reshape(1,X[i].shape[0])\n",
        "      fx = ( 1+np.exp((-1)*np.matmul(Xi,w)) )**(-1)# Sigmoid\n",
        "      if mode == 1 : #use formula for 1 & -1\n",
        "        gradient = gradient - ( (1+ y[i])/2 - fx ) * Xi.T\n",
        "        Lw = Lw +  (-1)*(  (1+y[i])/2 * np.log( fx ) + (1-y[i])/2 * np.log( 1 - fx ) ) \n",
        "      if mode == 2 : #use formula for 1 & 0\n",
        "        gradient = gradient - ( y[i] - fx ) * Xi.T\n",
        "        Lw = Lw +  (-1)*(  y[i] * np.log( fx ) + (1-y[i]) * np.log( 1 - fx ) ) \n",
        "    w = w - learning_rate * gradient\n",
        "    cost.append(Lw)\n",
        "    gd.append(gradient)\n",
        "    if len(cost) > 1 and abs(Lw - cost[-2]) / abs(cost[-2]) < 0.001:\n",
        "      break\n",
        "    # print(\"Lw:  \",Lw)\n",
        "    # print(\"gradient: \",gradient)\n",
        "  run_time = time.time() - t0\n",
        "  print(\"converge at \",iteration+1,\"th epoch\")\n",
        "  print(\"iteration time: \", run_time)\n",
        "\n",
        "  gd = np.array(gd)\n",
        "  cost = np.array(cost)\n",
        "  cost = cost.reshape(cost.shape[0],1)\n",
        "  iterations = range(1,iteration+2)\n",
        "  print(\"time per iteration : \", run_time / epoch)\n",
        "  plt.figure(2)\n",
        "  plt.title(\"Gradient Variation with Epoch\")\n",
        "  plt.plot(iterations,gd[:,0],'r',label = \"d=0\")\n",
        "  plt.plot(iterations,gd[:,1],'b',label = \"d=1\")\n",
        "  plt.plot(iterations,gd[:,2],'g',label = \"d=2\")\n",
        "  plt.grid()\n",
        "  plt.legend()\n",
        "  plt.xlabel(\"epoch\")\n",
        "  plt.ylabel(\"Gradient[d]\")\n",
        "    \n",
        "  plt.figure(3)\n",
        "  plt.title(\"L(w) Variation with Epoch\")\n",
        "  plt.plot(iterations,cost,'r')\n",
        "  plt.xlabel(\"epoch\")\n",
        "  plt.ylabel(\"L(w)\")\n",
        "  plt.grid()\n",
        "  print(\"w: \")\n",
        "  print(w)\n",
        "  print(\"Last Gradient: \")\n",
        "  print(gd[-1])\n",
        "  print(\"Loss (Lw): \",cost[-1])\n",
        "  return w"
      ],
      "execution_count": 0,
      "outputs": []
    },
    {
      "cell_type": "markdown",
      "metadata": {
        "id": "aGI8Ge3f4TL-",
        "colab_type": "text"
      },
      "source": [
        "combine two cluster of points together and train the logistic regression model"
      ]
    },
    {
      "cell_type": "code",
      "metadata": {
        "id": "8Pd-Vxe_4byc",
        "colab_type": "code",
        "colab": {
          "base_uri": "https://localhost:8080/",
          "height": 819
        },
        "outputId": "833989ae-beac-443d-976d-349f9861893f"
      },
      "source": [
        "X = np.concatenate((x1, x2), axis=0)\n",
        "#print(\"X.shape: \",X.shape,\"X:\")\n",
        "#print(X)\n",
        "y = np.concatenate((y1, y2), axis=0)\n",
        "#print(\"y.shape: \",y.shape,\"y:\")\n",
        "#print(y)\n",
        "Train_X, Test_X, Train_y, Test_y = train_test_split(X, y, test_size=0.2, shuffle = True)\n",
        "\n",
        "gdw = gradient_descent(Train_X,Train_y,0.1,200,mode = 2)"
      ],
      "execution_count": 124,
      "outputs": [
        {
          "output_type": "stream",
          "text": [
            "GD Result when use 1 & 0 formula learnt in class:\n",
            "X.shape:  (160, 3)  y.shape:  (160, 1)  w.shape:  (3, 1)\n",
            "converge at  55 th epoch\n",
            "iteration time:  0.2302231788635254\n",
            "time per iteration :  0.001151115894317627\n",
            "w: \n",
            "[[-0.73405886]\n",
            " [ 7.15831395]\n",
            " [ 6.88834324]]\n",
            "Last Gradient: \n",
            "[[ 0.02941278]\n",
            " [-0.24599076]\n",
            " [-0.1599582 ]]\n",
            "Loss (Lw):  [0.98526853]\n"
          ],
          "name": "stdout"
        },
        {
          "output_type": "display_data",
          "data": {
            "image/png": "[encoded data removed]",
            "text/plain": [
              "<Figure size 432x288 with 1 Axes>"
            ]
          },
          "metadata": {
            "tags": []
          }
        },
        {
          "output_type": "display_data",
          "data": {
            "image/png": "[encoded data removed]",
            "text/plain": [
              "<Figure size 432x288 with 1 Axes>"
            ]
          },
          "metadata": {
            "tags": []
          }
        }
      ]
    },
    {
      "cell_type": "markdown",
      "metadata": {
        "id": "ECfc1dgK-Bfx",
        "colab_type": "text"
      },
      "source": [
        "# **(c)**\n",
        "\n",
        "define a function to generate indices of mini batch "
      ]
    },
    {
      "cell_type": "code",
      "metadata": {
        "id": "3R2kF86zCbcZ",
        "colab_type": "code",
        "colab": {}
      },
      "source": [
        "def mini_batch(full_size,mini_size):\n",
        "  import numpy as np\n",
        "  fullbatch = []\n",
        "  for n in range(full_size):\n",
        "    fullbatch.append(n)\n",
        "  #print(\"full batch: \",fullbatch)\n",
        "  np.random.shuffle(fullbatch)\n",
        "  minibatch = fullbatch[0:100]\n",
        "  #print(len(minibatch))\n",
        "  #print(\"mini batch: \",minibatch)\n",
        "  return minibatch\n",
        "#mini_batch(200,100)  "
      ],
      "execution_count": 0,
      "outputs": []
    },
    {
      "cell_type": "markdown",
      "metadata": {
        "id": "QwQGAW2gHnC_",
        "colab_type": "text"
      },
      "source": [
        "According to function above to define a function for mini_batch gradient descent"
      ]
    },
    {
      "cell_type": "code",
      "metadata": {
        "id": "aU5tW9Mi-Tlx",
        "colab_type": "code",
        "colab": {}
      },
      "source": [
        "def mini_batch_gd(X,y,learning_rate,epoch,mode,batch_size = X.shape[0]):\n",
        "  import time\n",
        "  \n",
        "  if batch_size > X.shape[0] :\n",
        "    print(\"batch size > sample amount\")\n",
        "    return 0\n",
        "  #preoprocess: make all -1 to 0 if mode = 2\n",
        "  if mode == 2 :\n",
        "    print(\"SGD Result when use 1 & 0 formula learnt in class:\")\n",
        "    for n in range(X.shape[0]):\n",
        "      if y[n] == -1 :\n",
        "        y[n] = 0\n",
        "  if mode == 1 :\n",
        "    print(\"SGD Result when use 1 & -1 formula from my deduction:\")\n",
        "    for n in range(X.shape[0]):\n",
        "      if y[n] == 0 :\n",
        "        y[n] = -1\n",
        "\n",
        "  #preproess X and y: shuffle X,y pairs #first combine X & y, shuffle and then split\n",
        "  pairs = np.concatenate((X, y), axis=1)\n",
        "  #print(\"pairs.shape: \",pairs.shape,\"pairs:\")\n",
        "  np.random.shuffle(pairs)\n",
        "  #print(pairs)\n",
        "  X = pairs[:,0:pairs.shape[1]-1]\n",
        "  y = pairs[:,pairs.shape[1]-1:pairs.shape[1]]\n",
        "  \n",
        "  n = X.shape[0]\n",
        "  d = X.shape[1]\n",
        "  x0 = np.ones((n,1))\n",
        "  X = np.hstack((x0,X))# add a column of 1 to the left of x matching for w0\n",
        "  w = np.random.randn(d+1,1)\n",
        "  print(\"X.shape: \",X.shape,\" y.shape: \",y.shape,\" w.shape: \",w.shape)\n",
        "  \n",
        "  cost = []\n",
        "  gd = []\n",
        "  t0 = time.time()\n",
        "  for k in range(epoch):\n",
        "    Lw = 0\n",
        "    gradient = np.zeros((d+1,1))\n",
        "    minibatch = mini_batch(n,batch_size)\n",
        "    for i in range(0,batch_size):\n",
        "      Xi = X[minibatch[i]].reshape(1,X[minibatch[i]].shape[0])\n",
        "      fx = ( 1+np.exp((-1)*np.matmul(Xi,w)) )**(-1)# Sigmoid\n",
        "      if mode == 1 : #use formula for 1 & -1\n",
        "        gradient = gradient - ( (1+ y[minibatch[i]])/2 - fx ) * Xi.T\n",
        "        Lw = Lw +  (-1)*(  (1+y[minibatch[i]])/2 * np.log( fx ) + (1-y[minibatch[i]])/2 * np.log( 1 - fx ) ) \n",
        "      if mode == 2 : #use formula for 1 & 0\n",
        "        gradient = gradient - ( y[minibatch[i]] - fx ) * Xi.T\n",
        "        Lw = Lw +  (-1)*(  y[minibatch[i]] * np.log( fx ) + (1-y[minibatch[i]]) * np.log( 1 - fx ) ) \n",
        "    learning_rate = learning_rate / (k+1)\n",
        "    w = w - learning_rate * gradient\n",
        "    cost.append(Lw)\n",
        "    gd.append(gradient)\n",
        "    if len(cost) > 1 and abs(Lw - cost[-2]) / abs(cost[-2]) < 0.001:\n",
        "      break\n",
        "    # print(\"Lw:  \",Lw)\n",
        "    # print(\"gradient: \",gradient)\n",
        "  run_time = time.time() - t0\n",
        "  print(\"converge at \",k+1,\"th epoch\")\n",
        "  print(\"iteration time: \", run_time)\n",
        "  print(\"time per iteration : \", run_time / epoch)\n",
        "  gd = np.array(gd)\n",
        "  cost = np.array(cost)\n",
        "  cost = cost.reshape(cost.shape[0],1)\n",
        "  iterations = range(1,k+2)\n",
        "\n",
        "  plt.figure(2)\n",
        "  plt.title(\"Gradient Variation with Epoch\")\n",
        "  plt.plot(iterations,gd[:,0],'r',label = \"d=0\")\n",
        "  plt.plot(iterations,gd[:,1],'b',label = \"d=1\")\n",
        "  plt.plot(iterations,gd[:,2],'g',label = \"d=2\")\n",
        "  plt.grid()\n",
        "  plt.legend()\n",
        "  plt.xlabel(\"epoch\")\n",
        "  plt.ylabel(\"Gradient[d]\")\n",
        "    \n",
        "  plt.figure(3)\n",
        "  plt.title(\"L(w) Variation with Epoch\")\n",
        "  plt.plot(iterations,cost,'r')\n",
        "  plt.xlabel(\"epoch\")\n",
        "  plt.ylabel(\"L(w)\")\n",
        "  plt.grid()\n",
        "  print(\"w: \")\n",
        "  print(w)\n",
        "  print(\"Last Gradient: \")\n",
        "  print(gd[-1])\n",
        "  print(\"Loss (Lw): \",cost[-1])\n",
        "  return w"
      ],
      "execution_count": 0,
      "outputs": []
    },
    {
      "cell_type": "code",
      "metadata": {
        "id": "7idnkn1jJWC9",
        "colab_type": "code",
        "colab": {
          "base_uri": "https://localhost:8080/",
          "height": 819
        },
        "outputId": "4f511e16-2cba-40b7-e5f4-1b618c3e55d8"
      },
      "source": [
        "sgdw = mini_batch_gd(Train_X,Train_y,0.1,400,2,50)"
      ],
      "execution_count": 166,
      "outputs": [
        {
          "output_type": "stream",
          "text": [
            "SGD Result when use 1 & 0 formula learnt in class:\n",
            "X.shape:  (160, 3)  y.shape:  (160, 1)  w.shape:  (3, 1)\n",
            "converge at  241 th epoch\n",
            "iteration time:  0.3034689426422119\n",
            "time per iteration :  0.0007586723566055298\n",
            "w: \n",
            "[[-0.0960937 ]\n",
            " [ 2.45887669]\n",
            " [ 1.39480995]]\n",
            "Last Gradient: \n",
            "[[ 0.18888454]\n",
            " [-2.6224503 ]\n",
            " [-2.8895921 ]]\n",
            "Loss (Lw):  [6.35308716]\n"
          ],
          "name": "stdout"
        },
        {
          "output_type": "display_data",
          "data": {
            "image/png": "[encoded data removed]",
            "text/plain": [
              "<Figure size 432x288 with 1 Axes>"
            ]
          },
          "metadata": {
            "tags": []
          }
        },
        {
          "output_type": "display_data",
          "data": {
            "image/png": "[encoded data removed]",
            "text/plain": [
              "<Figure size 432x288 with 1 Axes>"
            ]
          },
          "metadata": {
            "tags": []
          }
        }
      ]
    },
    {
      "cell_type": "markdown",
      "metadata": {
        "id": "NNo8f5okCiQA",
        "colab_type": "text"
      },
      "source": [
        "**(d)Visualize correctness of models**"
      ]
    },
    {
      "cell_type": "code",
      "metadata": {
        "id": "4Bo-ZykRCtKE",
        "colab_type": "code",
        "colab": {
          "base_uri": "https://localhost:8080/",
          "height": 281
        },
        "outputId": "094282a3-da4e-417a-cacd-e7628fbb2071"
      },
      "source": [
        "plt.figure()\n",
        "plt.title(\"2D plane of two clusters of points with GD model dividing line\")\n",
        "plt.plot(x1[:,0],x1[:,1],'ro',label=\"y=1\")\n",
        "plt.plot(x2[:,0],x2[:,1],'bo',label=\"y=-1\")\n",
        "#plt.plot(x2[:,0],x2[:,1],'bo',label=\"Wrong Predition\")\n",
        "linex1 = [-1 , 1]\n",
        "#when w0 + w1*x1 + w2*x2 = 0 (as input of sigmoid), probability outcome after sigmoid = 0.5 , when > 0.5 , judge as 1\n",
        "linex2 = (0.0 - gdw[0] - gdw[1]*linex1) / gdw[2]\n",
        "plt.plot(linex1,linex2,label = \"GD\")\n",
        "linex4 = (0.0 - sgdw[0] - sgdw[1]*linex1) / sgdw[2]\n",
        "plt.plot(linex1,linex4,label = \"SGD\")\n",
        "# linex3 = (0.5 - gdw[0] - gdw[1]*linex1) / gdw[2]\n",
        "# plt.plot(linex1,linex3,label = \"model0.5\")\n",
        "plt.legend()\n",
        "plt.grid()"
      ],
      "execution_count": 169,
      "outputs": [
        {
          "output_type": "display_data",
          "data": {
            "image/png": "[encoded data removed]",
            "text/plain": [
              "<Figure size 432x288 with 1 Axes>"
            ]
          },
          "metadata": {
            "tags": []
          }
        }
      ]
    }
  ]
}
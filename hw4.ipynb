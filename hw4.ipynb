{
  "nbformat": 4,
  "nbformat_minor": 0,
  "metadata": {
    "colab": {
      "name": "hw4.ipynb",
      "provenance": [],
      "toc_visible": true
    },
    "kernelspec": {
      "name": "python3",
      "display_name": "Python 3"
    }
  },
  "cells": [
    {
      "cell_type": "markdown",
      "metadata": {
        "id": "QanELuy0dkP5",
        "colab_type": "text"
      },
      "source": [
        "# **Question 2**\n",
        "\n",
        "# (a)"
      ]
    },
    {
      "cell_type": "code",
      "metadata": {
        "id": "vTd-5zfQc8_7",
        "colab_type": "code",
        "outputId": "b6226132-aed2-4138-ae49-8f9fd88b1230",
        "colab": {
          "base_uri": "https://localhost:8080/",
          "height": 351
        }
      },
      "source": [
        "import numpy as np\n",
        "import matplotlib.pyplot as plt\n",
        "meanx1 = (0.5, 0.5)\n",
        "covx1 = [[0.07, 0], [0, 0.07]]\n",
        "x1 = np.random.multivariate_normal(meanx1, covx1, 100)\n",
        "meanx2 = (-0.5, -0.5)\n",
        "covx2 = [[0.07, 0], [0, 0.07]]\n",
        "x2 = np.random.multivariate_normal(meanx2, covx2, 100)\n",
        "print(\"x1.shape:\" ,x1.shape)\n",
        "print(\"x2.shape:\" ,x2.shape)\n",
        "plt.figure(1)\n",
        "plt.title(\"2D plane of two clusters of points\")\n",
        "plt.plot(x1[:,0],x1[:,1],'ro',label=\"y=1\")\n",
        "plt.plot(x2[:,0],x2[:,1],'bo',label=\"y=-1\")\n",
        "plt.legend()\n",
        "plt.grid()\n",
        "\n",
        "y1 = np.random.normal(loc=1.0, scale=0.0, size=100)\n",
        "y2 = np.random.normal(loc=-1.0, scale=0.0, size=100)\n",
        "y1 = y1.reshape(y1.shape[0],1)\n",
        "y2 = y2.reshape(y2.shape[0],1)\n",
        "print(\"y1.shape:\" ,y1.shape)\n",
        "print(\"y2.shape:\" ,y2.shape)"
      ],
      "execution_count": 0,
      "outputs": [
        {
          "output_type": "stream",
          "text": [
            "x1.shape: (100, 2)\n",
            "x2.shape: (100, 2)\n",
            "y1.shape: (100, 1)\n",
            "y2.shape: (100, 1)\n"
          ],
          "name": "stdout"
        },
        {
          "output_type": "display_data",
          "data": {
            "image/png": "[encoded data removed]",
            "text/plain": [
              "<Figure size 432x288 with 1 Axes>"
            ]
          },
          "metadata": {
            "tags": []
          }
        }
      ]
    },
    {
      "cell_type": "markdown",
      "metadata": {
        "id": "JOdyaGBdfsms",
        "colab_type": "text"
      },
      "source": [
        "# (b)"
      ]
    },
    {
      "cell_type": "code",
      "metadata": {
        "id": "3izmlbhXfu7V",
        "colab_type": "code",
        "colab": {}
      },
      "source": [
        "def perception(x,y,epoch,learning_rate):\n",
        "  import numpy as np\n",
        "  import matplotlib.pyplot as plt\n",
        "  pairs = np.concatenate((x, y), axis=1)\n",
        "  #print(\"pairs.shape: \",pairs.shape,\"pairs:\")\n",
        "  np.random.shuffle(pairs)\n",
        "  #print(pairs)\n",
        "  X = pairs[:,0:pairs.shape[1]-1]\n",
        "  y = pairs[:,pairs.shape[1]-1:pairs.shape[1]]\n",
        "  #print(X)\n",
        "  #print(y)\n",
        "  n = X.shape[0]\n",
        "  d = X.shape[1]\n",
        "  x0 = np.ones((n,1))\n",
        "  X = np.hstack((x0,X))# add a column of 1 to the left of x matching for w0\n",
        "  w = np.zeros(d+1)\n",
        "  print(\"X.shape: \",X.shape,\" y.shape: \",y.shape,\" w.shape: \",w.shape)\n",
        "  \n",
        "  cost = []\n",
        "  converge = False;\n",
        "  for T in range(1,epoch+1):\n",
        "    Lw = 0\n",
        "    for i in range(n):\n",
        "      if np.matmul(w,X[i].T)*y[i] <= 0 :\n",
        "        Lw = Lw - np.matmul(w,X[i].T)*y[i]\n",
        "        w = w - learning_rate*(-1)*y[i]*X[i]  \n",
        "    cost.append(Lw)\n",
        "    if (Lw == 0 and converge == False) :\n",
        "      converge = True\n",
        "      print(\"no change in epoch {} \".format(T))  \n",
        "  \n",
        "  plt.figure()\n",
        "  plt.title(\"L(w) Variation with Epoch\")\n",
        "  iterations = range(1,epoch+1)\n",
        "  plt.plot(iterations,cost,'r')\n",
        "  plt.xlabel(\"epoch\")\n",
        "  plt.ylabel(\"L(w)\")\n",
        "  plt.grid()\n",
        "  print(\"w: \",w)\n",
        "  print(\"Last Loss L(w): \",cost[-1])\n",
        "\n",
        "  y_pred = X@w.T\n",
        "  y_pred[y_pred<0]=-1\n",
        "  y_pred[y_pred>=0]=1\n",
        "  \n",
        "  acc = 0\n",
        "  for i in range(n):\n",
        "    if y_pred[i] == y[i]:\n",
        "      acc += 1\n",
        "  print(\"final accuracy: \", acc/200)\n",
        "  return w"
      ],
      "execution_count": 0,
      "outputs": []
    },
    {
      "cell_type": "code",
      "metadata": {
        "id": "HYL1ESJLlG36",
        "colab_type": "code",
        "outputId": "eb99ab5e-5d11-4ddd-ae73-6ad87dd9a7a2",
        "colab": {
          "base_uri": "https://localhost:8080/",
          "height": 400
        }
      },
      "source": [
        "x = np.concatenate((x1, x2), axis=0)\n",
        "y = np.concatenate((y1, y2), axis=0)\n",
        "\n",
        "perception(x,y,100,1)"
      ],
      "execution_count": 0,
      "outputs": [
        {
          "output_type": "stream",
          "text": [
            "X.shape:  (200, 3)  y.shape:  (200, 1)  w.shape:  (3,)\n",
            "no change in epoch 2 \n",
            "w:  [0.         1.0992005  1.29950527]\n",
            "Last Loss L(w):  0\n",
            "final accuracy:  1.0\n"
          ],
          "name": "stdout"
        },
        {
          "output_type": "execute_result",
          "data": {
            "text/plain": [
              "array([0.        , 1.0992005 , 1.29950527])"
            ]
          },
          "metadata": {
            "tags": []
          },
          "execution_count": 5
        },
        {
          "output_type": "display_data",
          "data": {
            "image/png": "[encoded data removed]",
            "text/plain": [
              "<Figure size 432x288 with 1 Axes>"
            ]
          },
          "metadata": {
            "tags": []
          }
        }
      ]
    },
    {
      "cell_type": "markdown",
      "metadata": {
        "id": "BcmU_RGG3nVA",
        "colab_type": "text"
      },
      "source": [
        "# (c)"
      ]
    },
    {
      "cell_type": "code",
      "metadata": {
        "id": "c9RxcBXh3pTz",
        "colab_type": "code",
        "outputId": "01214902-5d3c-4d36-fd43-868b0942693f",
        "colab": {
          "base_uri": "https://localhost:8080/",
          "height": 351
        }
      },
      "source": [
        "import numpy as np\n",
        "import matplotlib.pyplot as plt\n",
        "mean1 = (0.5, 0.5)\n",
        "cov1 = [[0.09, 0], [0, 0.09]]\n",
        "X1 = np.random.multivariate_normal(mean1, cov1, 100)\n",
        "mean2 = (-0.5, -0.5)\n",
        "cov2 = [[0.09, 0], [0, 0.09]]\n",
        "X2 = np.random.multivariate_normal(mean2, cov2, 100)\n",
        "print(\"X1.shape:\" ,X1.shape)\n",
        "print(\"X2.shape:\" ,X2.shape)\n",
        "plt.figure(1)\n",
        "plt.title(\"2D plane of two clusters of points\")\n",
        "plt.plot(X1[:,0],X1[:,1],'ro',label=\"y=1\")\n",
        "plt.plot(X2[:,0],X2[:,1],'bo',label=\"y=-1\")\n",
        "plt.legend()\n",
        "plt.grid()\n",
        "\n",
        "Y1 = np.random.normal(loc=1.0, scale=0.0, size=100)\n",
        "Y2 = np.random.normal(loc=-1.0, scale=0.0, size=100)\n",
        "Y1 = Y1.reshape(Y1.shape[0],1)\n",
        "Y2 = Y2.reshape(Y2.shape[0],1)\n",
        "print(\"Y1.shape:\" ,Y1.shape)\n",
        "print(\"Y2.shape:\" ,Y2.shape)"
      ],
      "execution_count": 0,
      "outputs": [
        {
          "output_type": "stream",
          "text": [
            "X1.shape: (100, 2)\n",
            "X2.shape: (100, 2)\n",
            "Y1.shape: (100, 1)\n",
            "Y2.shape: (100, 1)\n"
          ],
          "name": "stdout"
        },
        {
          "output_type": "display_data",
          "data": {
            "image/png": "[encoded data removed]",
            "text/plain": [
              "<Figure size 432x288 with 1 Axes>"
            ]
          },
          "metadata": {
            "tags": []
          }
        }
      ]
    },
    {
      "cell_type": "code",
      "metadata": {
        "id": "_4g-JtMl57DF",
        "colab_type": "code",
        "outputId": "59551a3e-a3b7-4b9b-c7b4-74b3011a7ddb",
        "colab": {
          "base_uri": "https://localhost:8080/",
          "height": 365
        }
      },
      "source": [
        "x = np.concatenate((X1, X2), axis=0)\n",
        "y = np.concatenate((Y1, Y2), axis=0)\n",
        "w = perception(x,y,300,1)"
      ],
      "execution_count": 0,
      "outputs": [
        {
          "output_type": "stream",
          "text": [
            "X.shape:  (200, 3)  y.shape:  (200, 1)  w.shape:  (3,)\n",
            "w:  [-1.          5.90306856  5.65967229]\n",
            "Last Loss L(w):  [2.39681691]\n",
            "final accuracy:  0.985\n"
          ],
          "name": "stdout"
        },
        {
          "output_type": "display_data",
          "data": {
            "image/png": "[encoded data removed]",
            "text/plain": [
              "<Figure size 432x288 with 1 Axes>"
            ]
          },
          "metadata": {
            "tags": []
          }
        }
      ]
    },
    {
      "cell_type": "code",
      "metadata": {
        "id": "7ilCSExL58Qm",
        "colab_type": "code",
        "outputId": "3a3b54fa-e24a-49f6-d81b-b37b7fa2be78",
        "colab": {
          "base_uri": "https://localhost:8080/",
          "height": 269
        }
      },
      "source": [
        "plt.figure()\n",
        "\n",
        "plt.plot(X1[:,0],X1[:,1],'ro',label=\"y=1\")\n",
        "plt.plot(X2[:,0],X2[:,1],'bo',label=\"y=-1\")\n",
        "linex1 = [-1 , 1]\n",
        "#boundary w0 + w1*x1 + w2*x2 = 0\n",
        "linex2 = [(0.0 - w[0] - w[1]*linex1[0]) / w[2],(0.0 - w[0] - w[1]*linex1[1]) / w[2]]\n",
        "plt.plot(linex1,linex2,label = \"Perception\")\n",
        "plt.legend()\n",
        "plt.grid()"
      ],
      "execution_count": 0,
      "outputs": [
        {
          "output_type": "display_data",
          "data": {
            "image/png": "[encoded data removed]",
            "text/plain": [
              "<Figure size 432x288 with 1 Axes>"
            ]
          },
          "metadata": {
            "tags": []
          }
        }
      ]
    },
    {
      "cell_type": "markdown",
      "metadata": {
        "id": "dFII3D7kqUyO",
        "colab_type": "text"
      },
      "source": [
        "# **help solve homework question 1 (b)**"
      ]
    },
    {
      "cell_type": "code",
      "metadata": {
        "id": "UM6-PlCzmS_O",
        "colab_type": "code",
        "outputId": "0d81a200-2c9e-40a1-d44d-86374e7e4889",
        "colab": {
          "base_uri": "https://localhost:8080/",
          "height": 660
        }
      },
      "source": [
        "import matplotlib.pyplot as plt\n",
        "import numpy as np\n",
        "\n",
        "y = [[1],[1],[1],[-1]]\n",
        "x = [[1,-1],[-1,1],[1,1],[-1,-1]]\n",
        "x = np.array(x)\n",
        "y = np.array(y)\n",
        "w = perception(x,y,100,1)\n",
        "plt.figure()\n",
        "plt.title(\"red points denote -1, blue points denote 1\")\n",
        "plt.xlabel(\"W0 = {w0}, W1 = {w1}, W2 = {w2}\".format(w0=w[0],w1=w[1],w2=w[2]))\n",
        "for i in range(np.array(x).shape[0]):\n",
        "  if ( y[i][0]== -1 ):\n",
        "    plt.plot(x[i,0],x[i,1],'ro')\n",
        "  if ( y[i][0]== 1 ):\n",
        "    plt.plot(x[i,0],x[i,1],'bo')\n",
        "linex1 = [-1 , 1]\n",
        "#boundary w0 + w1*x1 + w2*x2 = 0\n",
        "linex2 = [(0.0 - w[0] - w[1]*linex1[0]) / w[2],(0.0 - w[0] - w[1]*linex1[1]) / w[2]]\n",
        "plt.plot(linex1,linex2,label = \"Perception\")\n",
        "plt.legend()\n",
        "plt.grid()"
      ],
      "execution_count": 0,
      "outputs": [
        {
          "output_type": "stream",
          "text": [
            "X.shape:  (4, 3)  y.shape:  (4, 1)  w.shape:  (3,)\n",
            "no change in epoch 2 \n",
            "w:  [1. 1. 1.]\n",
            "Last Loss L(w):  0\n",
            "final accuracy:  0.02\n"
          ],
          "name": "stdout"
        },
        {
          "output_type": "display_data",
          "data": {
            "image/png": "[encoded data removed]",
            "text/plain": [
              "<Figure size 432x288 with 1 Axes>"
            ]
          },
          "metadata": {
            "tags": []
          }
        },
        {
          "output_type": "display_data",
          "data": {
            "image/png": "[encoded data removed]",
            "text/plain": [
              "<Figure size 432x288 with 1 Axes>"
            ]
          },
          "metadata": {
            "tags": []
          }
        }
      ]
    },
    {
      "cell_type": "markdown",
      "metadata": {
        "id": "jIGpehV1A8gs",
        "colab_type": "text"
      },
      "source": [
        "# **Question 4**\n",
        "\n",
        "# (a)"
      ]
    },
    {
      "cell_type": "markdown",
      "metadata": {
        "id": "lTP-F_i00tu0",
        "colab_type": "text"
      },
      "source": [
        "#load dataset"
      ]
    },
    {
      "cell_type": "code",
      "metadata": {
        "id": "-6STTdjhBMSv",
        "colab_type": "code",
        "outputId": "9c586d34-f7f3-407d-9b41-991b1bbbbe7a",
        "colab": {
          "base_uri": "https://localhost:8080/",
          "height": 204
        }
      },
      "source": [
        "import tensorflow as tf\n",
        "from tensorflow import keras\n",
        "fashion_mnist = keras.datasets.fashion_mnist\n",
        "(train_images, train_labels),(test_images, test_labels) = fashion_mnist.load_data()"
      ],
      "execution_count": 0,
      "outputs": [
        {
          "output_type": "display_data",
          "data": {
            "text/html": [
              "<p style=\"color: red;\">\n",
              "The default version of TensorFlow in Colab will soon switch to TensorFlow 2.x.<br>\n",
              "We recommend you <a href=\"https://www.tensorflow.org/guide/migrate\" target=\"_blank\">upgrade</a> now \n",
              "or ensure your notebook will continue to use TensorFlow 1.x via the <code>%tensorflow_version 1.x</code> magic:\n",
              "<a href=\"https://colab.research.google.com/notebooks/tensorflow_version.ipynb\" target=\"_blank\">more info</a>.</p>\n"
            ],
            "text/plain": [
              "<IPython.core.display.HTML object>"
            ]
          },
          "metadata": {
            "tags": []
          }
        },
        {
          "output_type": "stream",
          "text": [
            "Downloading data from https://storage.googleapis.com/tensorflow/tf-keras-datasets/train-labels-idx1-ubyte.gz\n",
            "32768/29515 [=================================] - 0s 0us/step\n",
            "Downloading data from https://storage.googleapis.com/tensorflow/tf-keras-datasets/train-images-idx3-ubyte.gz\n",
            "26427392/26421880 [==============================] - 0s 0us/step\n",
            "Downloading data from https://storage.googleapis.com/tensorflow/tf-keras-datasets/t10k-labels-idx1-ubyte.gz\n",
            "8192/5148 [===============================================] - 0s 0us/step\n",
            "Downloading data from https://storage.googleapis.com/tensorflow/tf-keras-datasets/t10k-images-idx3-ubyte.gz\n",
            "4423680/4422102 [==============================] - 0s 0us/step\n"
          ],
          "name": "stdout"
        }
      ]
    },
    {
      "cell_type": "markdown",
      "metadata": {
        "id": "v5GhU2ZF00n0",
        "colab_type": "text"
      },
      "source": [
        "#find representatives' indices for 10 classes"
      ]
    },
    {
      "cell_type": "code",
      "metadata": {
        "id": "-j5cCdegIjrG",
        "colab_type": "code",
        "outputId": "1d54b674-71aa-479d-aeff-e23b5c9b7beb",
        "colab": {
          "base_uri": "https://localhost:8080/",
          "height": 52
        }
      },
      "source": [
        "print(train_images.shape)\n",
        "print(test_images.shape)"
      ],
      "execution_count": 0,
      "outputs": [
        {
          "output_type": "stream",
          "text": [
            "(60000, 28, 28)\n",
            "(10000, 28, 28)\n"
          ],
          "name": "stdout"
        }
      ]
    },
    {
      "cell_type": "code",
      "metadata": {
        "id": "Xa975Pn1rDLz",
        "colab_type": "code",
        "colab": {}
      },
      "source": [
        "import numpy as np\n",
        "labels = []\n",
        "for clas in range(10):\n",
        "  for pic in range(60000):\n",
        "    if train_labels[pic] == clas :\n",
        "      labels.append(pic)\n",
        "      break"
      ],
      "execution_count": 0,
      "outputs": []
    },
    {
      "cell_type": "markdown",
      "metadata": {
        "id": "3ctslNIk09bs",
        "colab_type": "text"
      },
      "source": [
        "#plot representatives for 10 classes"
      ]
    },
    {
      "cell_type": "code",
      "metadata": {
        "id": "rlUOO7G3ovFU",
        "colab_type": "code",
        "outputId": "4e8e911c-9db6-4e02-9562-d121e4a018b2",
        "colab": {
          "base_uri": "https://localhost:8080/",
          "height": 158
        }
      },
      "source": [
        "import matplotlib.pyplot as plt\n",
        "%matplotlib inline \n",
        "# Only use this if using iPython\n",
        "plt.figure(figsize = (20,4)) # set area of plot 20 inch width 4 inch height\n",
        "no = 1\n",
        "for index in labels:\n",
        "  plt.subplot(1,10,no) #subplot(row,column,index)\n",
        "  plt.imshow(np.reshape(train_images[index],(28,28)), cmap='Greys')#cmap=plt.cm.gray\n",
        "  plt.title('Label: {}'.format(train_labels[index]))\n",
        "  no += 1"
      ],
      "execution_count": 0,
      "outputs": [
        {
          "output_type": "display_data",
          "data": {
            "image/png": "[encoded data removed]",
            "text/plain": [
              "<Figure size 1440x288 with 10 Axes>"
            ]
          },
          "metadata": {
            "tags": []
          }
        }
      ]
    },
    {
      "cell_type": "markdown",
      "metadata": {
        "id": "7K2CUK-IfoPa",
        "colab_type": "text"
      },
      "source": [
        "# **(b)**"
      ]
    },
    {
      "cell_type": "markdown",
      "metadata": {
        "id": "dlbAU38TE-tq",
        "colab_type": "text"
      },
      "source": [
        "flatten images and normalize data"
      ]
    },
    {
      "cell_type": "code",
      "metadata": {
        "id": "R-1p_G09FJoS",
        "colab_type": "code",
        "colab": {}
      },
      "source": [
        "train_flat = np.zeros(shape=(60000,784)) \n",
        "test_flat = np.zeros(shape=(10000,784))\n",
        "for i in range(60000):\n",
        "  train_flat[i] = train_images[i].flatten()\n",
        "for i in range(10000):  \n",
        "  test_flat[i] = test_images[i].flatten()\n",
        "#print(train_flat[1])\n",
        "\n",
        "from sklearn.preprocessing import StandardScaler\n",
        "scaler = StandardScaler()#normalize data\n",
        "train_flat = scaler.fit_transform(train_flat)\n",
        "test_flat = scaler.fit_transform(test_flat)  "
      ],
      "execution_count": 0,
      "outputs": []
    },
    {
      "cell_type": "markdown",
      "metadata": {
        "id": "hl9Qt_QAB1jE",
        "colab_type": "text"
      },
      "source": [
        "#K-NN"
      ]
    },
    {
      "cell_type": "code",
      "metadata": {
        "id": "sY29vt8oB43P",
        "colab_type": "code",
        "outputId": "7baa286b-d2f7-40fd-952e-0646d889e0d3",
        "colab": {
          "base_uri": "https://localhost:8080/",
          "height": 70
        }
      },
      "source": [
        "from sklearn import neighbors\n",
        "clf = neighbors.KNeighborsClassifier(3)\n",
        "clf.fit(train_flat, train_labels)\n",
        "%time clf.score(test_flat, test_labels)"
      ],
      "execution_count": 0,
      "outputs": [
        {
          "output_type": "stream",
          "text": [
            "CPU times: user 16min 47s, sys: 73.8 ms, total: 16min 47s\n",
            "Wall time: 16min 49s\n"
          ],
          "name": "stdout"
        },
        {
          "output_type": "execute_result",
          "data": {
            "text/plain": [
              "0.8499"
            ]
          },
          "metadata": {
            "tags": []
          },
          "execution_count": 7
        }
      ]
    },
    {
      "cell_type": "markdown",
      "metadata": {
        "id": "5Wh3xiSIXKYJ",
        "colab_type": "text"
      },
      "source": [
        "#Logistic Regression"
      ]
    },
    {
      "cell_type": "code",
      "metadata": {
        "id": "6ogV2eg_XNzI",
        "colab_type": "code",
        "outputId": "eeb81fdf-809e-4ecf-d86d-292ed6ea4e29",
        "colab": {
          "base_uri": "https://localhost:8080/",
          "height": 140
        }
      },
      "source": [
        "from sklearn.linear_model import LogisticRegression\n",
        "\n",
        "logisticReg = LogisticRegression(penalty = 'l2', tol = 0.1,solver = 'saga',C=0.001)\n",
        "%time logisticReg.fit(train_flat,train_labels)"
      ],
      "execution_count": 0,
      "outputs": [
        {
          "output_type": "stream",
          "text": [
            "CPU times: user 13.9 s, sys: 1.44 ms, total: 13.9 s\n",
            "Wall time: 13.9 s\n"
          ],
          "name": "stdout"
        },
        {
          "output_type": "execute_result",
          "data": {
            "text/plain": [
              "LogisticRegression(C=0.001, class_weight=None, dual=False, fit_intercept=True,\n",
              "                   intercept_scaling=1, l1_ratio=None, max_iter=100,\n",
              "                   multi_class='auto', n_jobs=None, penalty='l2',\n",
              "                   random_state=None, solver='saga', tol=0.1, verbose=0,\n",
              "                   warm_start=False)"
            ]
          },
          "metadata": {
            "tags": []
          },
          "execution_count": 11
        }
      ]
    },
    {
      "cell_type": "code",
      "metadata": {
        "id": "Arv5N3YKX1L6",
        "colab_type": "code",
        "outputId": "c84f9f43-6921-497f-87ca-76f6ba97a484",
        "colab": {
          "base_uri": "https://localhost:8080/",
          "height": 34
        }
      },
      "source": [
        "score = logisticReg.score(test_flat,test_labels)\n",
        "print(score)"
      ],
      "execution_count": 0,
      "outputs": [
        {
          "output_type": "stream",
          "text": [
            "0.8235\n"
          ],
          "name": "stdout"
        }
      ]
    },
    {
      "cell_type": "markdown",
      "metadata": {
        "id": "FxTsv6YjYcJf",
        "colab_type": "text"
      },
      "source": [
        "#SVMs\n"
      ]
    },
    {
      "cell_type": "code",
      "metadata": {
        "id": "eI8m2FzbYeZ6",
        "colab_type": "code",
        "outputId": "920bb139-2af5-45f7-8700-f590b0bf5b43",
        "colab": {
          "base_uri": "https://localhost:8080/",
          "height": 122
        }
      },
      "source": [
        "from sklearn import svm\n",
        "svc = svm.SVC(kernel = 'linear',C=3,probability=False)\n",
        "%time svc.fit(train_flat,train_labels)\n"
      ],
      "execution_count": 0,
      "outputs": [
        {
          "output_type": "stream",
          "text": [
            "CPU times: user 1h 16min 41s, sys: 744 ms, total: 1h 16min 42s\n",
            "Wall time: 1h 16min 53s\n"
          ],
          "name": "stdout"
        },
        {
          "output_type": "execute_result",
          "data": {
            "text/plain": [
              "SVC(C=3, break_ties=False, cache_size=200, class_weight=None, coef0=0.0,\n",
              "    decision_function_shape='ovr', degree=3, gamma='scale', kernel='linear',\n",
              "    max_iter=-1, probability=False, random_state=None, shrinking=True,\n",
              "    tol=0.001, verbose=False)"
            ]
          },
          "metadata": {
            "tags": []
          },
          "execution_count": 11
        }
      ]
    },
    {
      "cell_type": "code",
      "metadata": {
        "id": "Wtcpnjo5-1ep",
        "colab_type": "code",
        "outputId": "13c7d758-1289-4f67-bf38-34e3d8acc697",
        "colab": {
          "base_uri": "https://localhost:8080/",
          "height": 70
        }
      },
      "source": [
        "%time svc.score(test_flat, test_labels)"
      ],
      "execution_count": 0,
      "outputs": [
        {
          "output_type": "stream",
          "text": [
            "CPU times: user 3min 44s, sys: 19 ms, total: 3min 44s\n",
            "Wall time: 3min 45s\n"
          ],
          "name": "stdout"
        },
        {
          "output_type": "execute_result",
          "data": {
            "text/plain": [
              "0.8357"
            ]
          },
          "metadata": {
            "tags": []
          },
          "execution_count": 12
        }
      ]
    },
    {
      "cell_type": "code",
      "metadata": {
        "id": "JPAZbWFuVc-J",
        "colab_type": "code",
        "outputId": "5b507fdf-0b82-4b66-bc6c-f77a0ec3af98",
        "colab": {
          "base_uri": "https://localhost:8080/",
          "height": 122
        }
      },
      "source": [
        "svmrbf  = svm.SVC(probability=False,kernel='rbf',C=5)\n",
        "%time svmrbf.fit(train_flat,train_labels)"
      ],
      "execution_count": 0,
      "outputs": [
        {
          "output_type": "stream",
          "text": [
            "CPU times: user 14min 21s, sys: 294 ms, total: 14min 22s\n",
            "Wall time: 14min 25s\n"
          ],
          "name": "stdout"
        },
        {
          "output_type": "execute_result",
          "data": {
            "text/plain": [
              "SVC(C=5, break_ties=False, cache_size=200, class_weight=None, coef0=0.0,\n",
              "    decision_function_shape='ovr', degree=3, gamma='scale', kernel='rbf',\n",
              "    max_iter=-1, probability=False, random_state=None, shrinking=True,\n",
              "    tol=0.001, verbose=False)"
            ]
          },
          "metadata": {
            "tags": []
          },
          "execution_count": 10
        }
      ]
    },
    {
      "cell_type": "code",
      "metadata": {
        "id": "hafroVlAgmju",
        "colab_type": "code",
        "outputId": "7ab40ef3-4bda-4ca0-ec14-2c56bf0d74c3",
        "colab": {
          "base_uri": "https://localhost:8080/",
          "height": 70
        }
      },
      "source": [
        "%time svmrbf.score(test_flat, test_labels)"
      ],
      "execution_count": 0,
      "outputs": [
        {
          "output_type": "stream",
          "text": [
            "CPU times: user 4min 35s, sys: 38.7 ms, total: 4min 35s\n",
            "Wall time: 4min 35s\n"
          ],
          "name": "stdout"
        },
        {
          "output_type": "execute_result",
          "data": {
            "text/plain": [
              "0.8965"
            ]
          },
          "metadata": {
            "tags": []
          },
          "execution_count": 11
        }
      ]
    }
  ]
}